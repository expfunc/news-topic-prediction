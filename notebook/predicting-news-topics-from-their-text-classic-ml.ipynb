{
 "cells": [
  {
   "cell_type": "code",
   "execution_count": 1,
   "id": "6bf1aceb",
   "metadata": {
    "execution": {
     "iopub.execute_input": "2025-08-27T19:49:31.943252Z",
     "iopub.status.busy": "2025-08-27T19:49:31.943026Z",
     "iopub.status.idle": "2025-08-27T19:49:38.656153Z",
     "shell.execute_reply": "2025-08-27T19:49:38.651697Z"
    },
    "id": "186fa460",
    "outputId": "e41b41df-1d42-4ad5-f5f7-41a988d1c6e1",
    "papermill": {
     "duration": 6.729864,
     "end_time": "2025-08-27T19:49:38.658926",
     "exception": false,
     "start_time": "2025-08-27T19:49:31.929062",
     "status": "completed"
    },
    "tags": []
   },
   "outputs": [
    {
     "name": "stdout",
     "output_type": "stream",
     "text": [
      "Collecting nltk\r\n"
     ]
    },
    {
     "name": "stdout",
     "output_type": "stream",
     "text": [
      "  Downloading nltk-3.9.1-py3-none-any.whl (1.5 MB)\r\n",
      "\u001b[?25l     \u001b[90m━━━━━━━━━━━━━━━━━━━━━━━━━━━━━━━━━━━━━━━━\u001b[0m \u001b[32m0.0/1.5 MB\u001b[0m \u001b[31m?\u001b[0m eta \u001b[36m-:--:--\u001b[0m\r",
      "\u001b[2K     \u001b[91m━━━━━━━━━━━━━━\u001b[0m\u001b[90m╺\u001b[0m\u001b[90m━━━━━━━━━━━━━━━━━━━━━━━━━\u001b[0m \u001b[32m0.5/1.5 MB\u001b[0m \u001b[31m16.1 MB/s\u001b[0m eta \u001b[36m0:00:01\u001b[0m"
     ]
    },
    {
     "name": "stdout",
     "output_type": "stream",
     "text": [
      "\r",
      "\u001b[2K     \u001b[91m━━━━━━━━━━━━━━━━━━━━━━━━━━━━━━━━━━━━━━━\u001b[0m\u001b[90m╺\u001b[0m \u001b[32m1.5/1.5 MB\u001b[0m \u001b[31m21.7 MB/s\u001b[0m eta \u001b[36m0:00:01\u001b[0m"
     ]
    },
    {
     "name": "stdout",
     "output_type": "stream",
     "text": [
      "\r",
      "\u001b[2K     \u001b[90m━━━━━━━━━━━━━━━━━━━━━━━━━━━━━━━━━━━━━━━━\u001b[0m \u001b[32m1.5/1.5 MB\u001b[0m \u001b[31m16.6 MB/s\u001b[0m eta \u001b[36m0:00:00\u001b[0m\r\n",
      "\u001b[?25hCollecting pymorphy3\r\n"
     ]
    },
    {
     "name": "stdout",
     "output_type": "stream",
     "text": [
      "  Downloading pymorphy3-2.0.4-py3-none-any.whl (54 kB)\r\n",
      "\u001b[?25l     \u001b[90m━━━━━━━━━━━━━━━━━━━━━━━━━━━━━━━━━━━━━━━━\u001b[0m \u001b[32m0.0/54.1 kB\u001b[0m \u001b[31m?\u001b[0m eta \u001b[36m-:--:--\u001b[0m\r",
      "\u001b[2K     \u001b[90m━━━━━━━━━━━━━━━━━━━━━━━━━━━━━━━━━━━━━━━━\u001b[0m \u001b[32m54.1/54.1 kB\u001b[0m \u001b[31m4.7 MB/s\u001b[0m eta \u001b[36m0:00:00\u001b[0m\r\n",
      "\u001b[?25hRequirement already satisfied: click in /usr/local/lib/python3.10/site-packages (from nltk) (8.2.1)\r\n",
      "Requirement already satisfied: tqdm in /usr/local/lib/python3.10/site-packages (from nltk) (4.67.1)\r\n",
      "Requirement already satisfied: joblib in /usr/local/lib/python3.10/site-packages (from nltk) (1.5.1)\r\n",
      "Requirement already satisfied: regex>=2021.8.3 in /usr/local/lib/python3.10/site-packages (from nltk) (2024.11.6)\r\n"
     ]
    },
    {
     "name": "stdout",
     "output_type": "stream",
     "text": [
      "Collecting pymorphy3-dicts-ru\r\n",
      "  Downloading pymorphy3_dicts_ru-2.4.417150.4580142-py2.py3-none-any.whl (8.4 MB)\r\n",
      "\u001b[?25l     \u001b[90m━━━━━━━━━━━━━━━━━━━━━━━━━━━━━━━━━━━━━━━━\u001b[0m \u001b[32m0.0/8.4 MB\u001b[0m \u001b[31m?\u001b[0m eta \u001b[36m-:--:--\u001b[0m"
     ]
    },
    {
     "name": "stdout",
     "output_type": "stream",
     "text": [
      "\r",
      "\u001b[2K     \u001b[91m━━━━━━\u001b[0m\u001b[91m╸\u001b[0m\u001b[90m━━━━━━━━━━━━━━━━━━━━━━━━━━━━━━━━━\u001b[0m \u001b[32m1.4/8.4 MB\u001b[0m \u001b[31m42.8 MB/s\u001b[0m eta \u001b[36m0:00:01\u001b[0m\r",
      "\u001b[2K     \u001b[91m━━━━━━━━━━━━━━━━\u001b[0m\u001b[90m╺\u001b[0m\u001b[90m━━━━━━━━━━━━━━━━━━━━━━━\u001b[0m \u001b[32m3.4/8.4 MB\u001b[0m \u001b[31m50.0 MB/s\u001b[0m eta \u001b[36m0:00:01\u001b[0m"
     ]
    },
    {
     "name": "stdout",
     "output_type": "stream",
     "text": [
      "\r",
      "\u001b[2K     \u001b[91m━━━━━━━━━━━━━━━━━━━━━━━━━━━━━\u001b[0m\u001b[91m╸\u001b[0m\u001b[90m━━━━━━━━━━\u001b[0m \u001b[32m6.3/8.4 MB\u001b[0m \u001b[31m61.0 MB/s\u001b[0m eta \u001b[36m0:00:01\u001b[0m"
     ]
    },
    {
     "name": "stdout",
     "output_type": "stream",
     "text": [
      "\r",
      "\u001b[2K     \u001b[91m━━━━━━━━━━━━━━━━━━━━━━━━━━━━━━━━━━━━━━━\u001b[0m\u001b[91m╸\u001b[0m \u001b[32m8.4/8.4 MB\u001b[0m \u001b[31m67.7 MB/s\u001b[0m eta \u001b[36m0:00:01\u001b[0m\r",
      "\u001b[2K     \u001b[91m━━━━━━━━━━━━━━━━━━━━━━━━━━━━━━━━━━━━━━━\u001b[0m\u001b[91m╸\u001b[0m \u001b[32m8.4/8.4 MB\u001b[0m \u001b[31m67.7 MB/s\u001b[0m eta \u001b[36m0:00:01\u001b[0m"
     ]
    },
    {
     "name": "stdout",
     "output_type": "stream",
     "text": [
      "\r",
      "\u001b[2K     \u001b[90m━━━━━━━━━━━━━━━━━━━━━━━━━━━━━━━━━━━━━━━━\u001b[0m \u001b[32m8.4/8.4 MB\u001b[0m \u001b[31m46.0 MB/s\u001b[0m eta \u001b[36m0:00:00\u001b[0m\r\n",
      "\u001b[?25h"
     ]
    },
    {
     "name": "stdout",
     "output_type": "stream",
     "text": [
      "Collecting dawg2-python>=0.8.0\r\n",
      "  Downloading dawg2_python-0.9.0-py3-none-any.whl (9.3 kB)\r\n",
      "Requirement already satisfied: typing-extensions>=4.0 in /usr/local/lib/python3.10/site-packages (from dawg2-python>=0.8.0->pymorphy3) (4.14.0)\r\n"
     ]
    },
    {
     "name": "stdout",
     "output_type": "stream",
     "text": [
      "Installing collected packages: pymorphy3-dicts-ru, nltk, dawg2-python, pymorphy3\r\n"
     ]
    },
    {
     "name": "stdout",
     "output_type": "stream",
     "text": [
      "Successfully installed dawg2-python-0.9.0 nltk-3.9.1 pymorphy3-2.0.4 pymorphy3-dicts-ru-2.4.417150.4580142\r\n",
      "\u001b[33mWARNING: Running pip as the 'root' user can result in broken permissions and conflicting behaviour with the system package manager. It is recommended to use a virtual environment instead: https://pip.pypa.io/warnings/venv\u001b[0m\u001b[33m\r\n",
      "\u001b[0m"
     ]
    },
    {
     "name": "stdout",
     "output_type": "stream",
     "text": [
      "\r\n",
      "\u001b[1m[\u001b[0m\u001b[34;49mnotice\u001b[0m\u001b[1;39;49m]\u001b[0m\u001b[39;49m A new release of pip is available: \u001b[0m\u001b[31;49m23.0.1\u001b[0m\u001b[39;49m -> \u001b[0m\u001b[32;49m25.2\u001b[0m\r\n",
      "\u001b[1m[\u001b[0m\u001b[34;49mnotice\u001b[0m\u001b[1;39;49m]\u001b[0m\u001b[39;49m To update, run: \u001b[0m\u001b[32;49mpip install --upgrade pip\u001b[0m\r\n"
     ]
    }
   ],
   "source": [
    "!pip install nltk pymorphy3"
   ]
  },
  {
   "cell_type": "code",
   "execution_count": 2,
   "id": "17303aa3",
   "metadata": {
    "execution": {
     "iopub.execute_input": "2025-08-27T19:49:38.677499Z",
     "iopub.status.busy": "2025-08-27T19:49:38.677238Z",
     "iopub.status.idle": "2025-08-27T19:49:46.768102Z",
     "shell.execute_reply": "2025-08-27T19:49:46.764446Z"
    },
    "id": "87c8d722",
    "outputId": "48df8923-e91b-4608-9f72-59a223e04a00",
    "papermill": {
     "duration": 8.105409,
     "end_time": "2025-08-27T19:49:46.771842",
     "exception": false,
     "start_time": "2025-08-27T19:49:38.666433",
     "status": "completed"
    },
    "tags": []
   },
   "outputs": [
    {
     "name": "stderr",
     "output_type": "stream",
     "text": [
      "[nltk_data] Downloading package punkt_tab to /root/nltk_data...\n"
     ]
    },
    {
     "name": "stderr",
     "output_type": "stream",
     "text": [
      "[nltk_data]   Unzipping tokenizers/punkt_tab.zip.\n"
     ]
    },
    {
     "name": "stderr",
     "output_type": "stream",
     "text": [
      "[nltk_data] Downloading package stopwords to /root/nltk_data...\n"
     ]
    },
    {
     "name": "stderr",
     "output_type": "stream",
     "text": [
      "[nltk_data]   Unzipping corpora/stopwords.zip.\n"
     ]
    }
   ],
   "source": [
    "import pandas as pd\n",
    "import numpy as np\n",
    "import matplotlib.pyplot as plt\n",
    "\n",
    "import nltk\n",
    "from nltk.tokenize import word_tokenize\n",
    "from nltk.stem import SnowballStemmer\n",
    "from nltk.corpus import stopwords\n",
    "from string import punctuation\n",
    "from pymorphy3 import MorphAnalyzer\n",
    "\n",
    "from sklearn.feature_extraction.text import TfidfVectorizer\n",
    "from sklearn.model_selection import train_test_split\n",
    "from sklearn.preprocessing import LabelEncoder\n",
    "from sklearn.linear_model import LogisticRegression, SGDClassifier\n",
    "from sklearn.svm import LinearSVC\n",
    "from sklearn.ensemble import RandomForestClassifier\n",
    "from sklearn.model_selection import GridSearchCV\n",
    "from sklearn.neighbors import KNeighborsClassifier\n",
    "from sklearn.metrics import f1_score, precision_score, recall_score, classification_report\n",
    "\n",
    "nltk.download('punkt_tab')\n",
    "nltk.download('stopwords')\n",
    "\n",
    "import warnings\n",
    "warnings.filterwarnings('ignore')"
   ]
  },
  {
   "cell_type": "code",
   "execution_count": 3,
   "id": "5556f8fc",
   "metadata": {
    "execution": {
     "iopub.execute_input": "2025-08-27T19:49:46.790279Z",
     "iopub.status.busy": "2025-08-27T19:49:46.789953Z",
     "iopub.status.idle": "2025-08-27T19:50:46.369464Z",
     "shell.execute_reply": "2025-08-27T19:50:46.364359Z"
    },
    "id": "e9880170",
    "papermill": {
     "duration": 59.593139,
     "end_time": "2025-08-27T19:50:46.372838",
     "exception": false,
     "start_time": "2025-08-27T19:49:46.779699",
     "status": "completed"
    },
    "tags": []
   },
   "outputs": [],
   "source": [
    "df = pd.read_csv('/kaggle/input/corpus-of-russian-news-articles-from-lenta/lenta-ru-news.csv', low_memory=False).drop('url', axis=1)"
   ]
  },
  {
   "cell_type": "code",
   "execution_count": 4,
   "id": "063deb6b",
   "metadata": {
    "execution": {
     "iopub.execute_input": "2025-08-27T19:50:46.392648Z",
     "iopub.status.busy": "2025-08-27T19:50:46.392353Z",
     "iopub.status.idle": "2025-08-27T19:50:46.421537Z",
     "shell.execute_reply": "2025-08-27T19:50:46.417271Z"
    },
    "id": "29b95d72",
    "outputId": "222fe62b-66a1-4cc8-bb9d-2767a0ca9ac1",
    "papermill": {
     "duration": 0.043697,
     "end_time": "2025-08-27T19:50:46.424878",
     "exception": false,
     "start_time": "2025-08-27T19:50:46.381181",
     "status": "completed"
    },
    "tags": []
   },
   "outputs": [
    {
     "data": {
      "text/html": [
       "<div>\n",
       "<style scoped>\n",
       "    .dataframe tbody tr th:only-of-type {\n",
       "        vertical-align: middle;\n",
       "    }\n",
       "\n",
       "    .dataframe tbody tr th {\n",
       "        vertical-align: top;\n",
       "    }\n",
       "\n",
       "    .dataframe thead th {\n",
       "        text-align: right;\n",
       "    }\n",
       "</style>\n",
       "<table border=\"1\" class=\"dataframe\">\n",
       "  <thead>\n",
       "    <tr style=\"text-align: right;\">\n",
       "      <th></th>\n",
       "      <th>title</th>\n",
       "      <th>text</th>\n",
       "      <th>topic</th>\n",
       "      <th>tags</th>\n",
       "      <th>date</th>\n",
       "    </tr>\n",
       "  </thead>\n",
       "  <tbody>\n",
       "    <tr>\n",
       "      <th>0</th>\n",
       "      <td>1914. Русские войска вступили в пределы Венгрии</td>\n",
       "      <td>Бои у Сопоцкина и Друскеник закончились отступ...</td>\n",
       "      <td>Библиотека</td>\n",
       "      <td>Первая мировая</td>\n",
       "      <td>1914/09/16</td>\n",
       "    </tr>\n",
       "    <tr>\n",
       "      <th>1</th>\n",
       "      <td>1914. Празднование столетия М.Ю. Лермонтова от...</td>\n",
       "      <td>Министерство народного просвещения, в виду про...</td>\n",
       "      <td>Библиотека</td>\n",
       "      <td>Первая мировая</td>\n",
       "      <td>1914/09/16</td>\n",
       "    </tr>\n",
       "    <tr>\n",
       "      <th>2</th>\n",
       "      <td>1914. Das ist Nesteroff!</td>\n",
       "      <td>Штабс-капитан П. Н. Нестеров на днях, увидев в...</td>\n",
       "      <td>Библиотека</td>\n",
       "      <td>Первая мировая</td>\n",
       "      <td>1914/09/17</td>\n",
       "    </tr>\n",
       "    <tr>\n",
       "      <th>3</th>\n",
       "      <td>1914. Бульдог-гонец под Льежем</td>\n",
       "      <td>Фотограф-корреспондент Daily Mirror рассказыва...</td>\n",
       "      <td>Библиотека</td>\n",
       "      <td>Первая мировая</td>\n",
       "      <td>1914/09/17</td>\n",
       "    </tr>\n",
       "    <tr>\n",
       "      <th>4</th>\n",
       "      <td>1914. Под Люблином пойман швабский зверь</td>\n",
       "      <td>Лица, приехавшие в Варшаву из Люблина, передаю...</td>\n",
       "      <td>Библиотека</td>\n",
       "      <td>Первая мировая</td>\n",
       "      <td>1914/09/18</td>\n",
       "    </tr>\n",
       "  </tbody>\n",
       "</table>\n",
       "</div>"
      ],
      "text/plain": [
       "                                               title  \\\n",
       "0  1914. Русские войска вступили в пределы Венгрии     \n",
       "1  1914. Празднование столетия М.Ю. Лермонтова от...   \n",
       "2                           1914. Das ist Nesteroff!   \n",
       "3                    1914. Бульдог-гонец под Льежем    \n",
       "4           1914. Под Люблином пойман швабский зверь   \n",
       "\n",
       "                                                text       topic  \\\n",
       "0  Бои у Сопоцкина и Друскеник закончились отступ...  Библиотека   \n",
       "1  Министерство народного просвещения, в виду про...  Библиотека   \n",
       "2  Штабс-капитан П. Н. Нестеров на днях, увидев в...  Библиотека   \n",
       "3  Фотограф-корреспондент Daily Mirror рассказыва...  Библиотека   \n",
       "4  Лица, приехавшие в Варшаву из Люблина, передаю...  Библиотека   \n",
       "\n",
       "             tags        date  \n",
       "0  Первая мировая  1914/09/16  \n",
       "1  Первая мировая  1914/09/16  \n",
       "2  Первая мировая  1914/09/17  \n",
       "3  Первая мировая  1914/09/17  \n",
       "4  Первая мировая  1914/09/18  "
      ]
     },
     "execution_count": 4,
     "metadata": {},
     "output_type": "execute_result"
    }
   ],
   "source": [
    "df.head()"
   ]
  },
  {
   "cell_type": "code",
   "execution_count": 5,
   "id": "000c401b",
   "metadata": {
    "execution": {
     "iopub.execute_input": "2025-08-27T19:50:46.444182Z",
     "iopub.status.busy": "2025-08-27T19:50:46.443948Z",
     "iopub.status.idle": "2025-08-27T19:50:46.456740Z",
     "shell.execute_reply": "2025-08-27T19:50:46.452709Z"
    },
    "id": "8f3d0ab6",
    "outputId": "c47f7f8b-4f74-4ae6-ec5e-675cca02cb4f",
    "papermill": {
     "duration": 0.026129,
     "end_time": "2025-08-27T19:50:46.459473",
     "exception": false,
     "start_time": "2025-08-27T19:50:46.433344",
     "status": "completed"
    },
    "tags": []
   },
   "outputs": [
    {
     "data": {
      "text/plain": [
       "(800975, 5)"
      ]
     },
     "execution_count": 5,
     "metadata": {},
     "output_type": "execute_result"
    }
   ],
   "source": [
    "df.shape"
   ]
  },
  {
   "cell_type": "code",
   "execution_count": 6,
   "id": "a4687c76",
   "metadata": {
    "execution": {
     "iopub.execute_input": "2025-08-27T19:50:46.478090Z",
     "iopub.status.busy": "2025-08-27T19:50:46.477882Z",
     "iopub.status.idle": "2025-08-27T19:50:46.765311Z",
     "shell.execute_reply": "2025-08-27T19:50:46.759988Z"
    },
    "id": "d73fe4fa",
    "outputId": "4fa78554-1da7-49be-a25d-85faa3504079",
    "papermill": {
     "duration": 0.30116,
     "end_time": "2025-08-27T19:50:46.768345",
     "exception": false,
     "start_time": "2025-08-27T19:50:46.467185",
     "status": "completed"
    },
    "tags": []
   },
   "outputs": [
    {
     "name": "stdout",
     "output_type": "stream",
     "text": [
      "<class 'pandas.core.frame.DataFrame'>\n",
      "RangeIndex: 800975 entries, 0 to 800974\n",
      "Data columns (total 5 columns):\n",
      " #   Column  Non-Null Count   Dtype \n",
      "---  ------  --------------   ----- \n",
      " 0   title   800975 non-null  object\n",
      " 1   text    800970 non-null  object\n",
      " 2   topic   738973 non-null  object\n",
      " 3   tags    773756 non-null  object\n",
      " 4   date    800975 non-null  object\n",
      "dtypes: object(5)\n",
      "memory usage: 30.6+ MB\n"
     ]
    }
   ],
   "source": [
    "df.info()"
   ]
  },
  {
   "cell_type": "code",
   "execution_count": 7,
   "id": "d3b34ed0",
   "metadata": {
    "execution": {
     "iopub.execute_input": "2025-08-27T19:50:46.787497Z",
     "iopub.status.busy": "2025-08-27T19:50:46.787250Z",
     "iopub.status.idle": "2025-08-27T19:50:47.070388Z",
     "shell.execute_reply": "2025-08-27T19:50:47.066287Z"
    },
    "id": "2a589e31",
    "outputId": "26ef664f-77a1-4eb8-8132-cdf892311af0",
    "papermill": {
     "duration": 0.296641,
     "end_time": "2025-08-27T19:50:47.073080",
     "exception": false,
     "start_time": "2025-08-27T19:50:46.776439",
     "status": "completed"
    },
    "tags": []
   },
   "outputs": [
    {
     "data": {
      "text/plain": [
       "title        0\n",
       "text         5\n",
       "topic    62002\n",
       "tags     27219\n",
       "date         0\n",
       "dtype: int64"
      ]
     },
     "execution_count": 7,
     "metadata": {},
     "output_type": "execute_result"
    }
   ],
   "source": [
    "df.isna().sum()"
   ]
  },
  {
   "cell_type": "markdown",
   "id": "09ab4426",
   "metadata": {
    "id": "5f53eee4",
    "papermill": {
     "duration": 0.007879,
     "end_time": "2025-08-27T19:50:47.088639",
     "exception": false,
     "start_time": "2025-08-27T19:50:47.080760",
     "status": "completed"
    },
    "tags": []
   },
   "source": [
    "There are many NaNs in \"topic\", so we will not use such lines in training. And we will simply remove 5 entries in \"text\"."
   ]
  },
  {
   "cell_type": "code",
   "execution_count": 8,
   "id": "3fcc25d8",
   "metadata": {
    "execution": {
     "iopub.execute_input": "2025-08-27T19:50:47.107850Z",
     "iopub.status.busy": "2025-08-27T19:50:47.107620Z",
     "iopub.status.idle": "2025-08-27T19:50:49.411967Z",
     "shell.execute_reply": "2025-08-27T19:50:49.405094Z"
    },
    "id": "5d595ce3",
    "outputId": "fe80282c-272b-4412-9d23-494943201616",
    "papermill": {
     "duration": 2.318082,
     "end_time": "2025-08-27T19:50:49.414439",
     "exception": false,
     "start_time": "2025-08-27T19:50:47.096357",
     "status": "completed"
    },
    "tags": []
   },
   "outputs": [
    {
     "data": {
      "text/plain": [
       "np.int64(5)"
      ]
     },
     "execution_count": 8,
     "metadata": {},
     "output_type": "execute_result"
    }
   ],
   "source": [
    "df.duplicated().sum()"
   ]
  },
  {
   "cell_type": "code",
   "execution_count": 9,
   "id": "56e3be80",
   "metadata": {
    "execution": {
     "iopub.execute_input": "2025-08-27T19:50:49.435033Z",
     "iopub.status.busy": "2025-08-27T19:50:49.434791Z",
     "iopub.status.idle": "2025-08-27T19:50:49.777987Z",
     "shell.execute_reply": "2025-08-27T19:50:49.773595Z"
    },
    "id": "hybRtUMwthfZ",
    "papermill": {
     "duration": 0.35764,
     "end_time": "2025-08-27T19:50:49.780192",
     "exception": false,
     "start_time": "2025-08-27T19:50:49.422552",
     "status": "completed"
    },
    "tags": []
   },
   "outputs": [],
   "source": [
    "df = df.dropna()"
   ]
  },
  {
   "cell_type": "code",
   "execution_count": 10,
   "id": "3b0a8ede",
   "metadata": {
    "execution": {
     "iopub.execute_input": "2025-08-27T19:50:49.799933Z",
     "iopub.status.busy": "2025-08-27T19:50:49.799706Z",
     "iopub.status.idle": "2025-08-27T19:50:50.289428Z",
     "shell.execute_reply": "2025-08-27T19:50:50.283888Z"
    },
    "id": "1cd231c4",
    "outputId": "14b73309-5e87-47fc-ab4f-862a72611d62",
    "papermill": {
     "duration": 0.503197,
     "end_time": "2025-08-27T19:50:50.291824",
     "exception": false,
     "start_time": "2025-08-27T19:50:49.788627",
     "status": "completed"
    },
    "tags": []
   },
   "outputs": [
    {
     "data": {
      "image/png": "[encoded data removed]",
      "text/plain": [
       "<Figure size 1500x800 with 1 Axes>"
      ]
     },
     "metadata": {},
     "output_type": "display_data"
    }
   ],
   "source": [
    "topic_counts = df['topic'].value_counts()\n",
    "\n",
    "plt.figure(figsize=(15, 8))\n",
    "ax = topic_counts.plot(kind='bar')\n",
    "plt.title('Distribution of Topics')\n",
    "plt.xlabel('Topic')\n",
    "plt.ylabel('Count')\n",
    "plt.xticks(rotation=45, ha='right')\n",
    "\n",
    "total = topic_counts.sum()\n",
    "for p in ax.patches:\n",
    "    height = p.get_height()\n",
    "    ax.text(p.get_x() + p.get_width()/2.,\n",
    "            height + 5000,\n",
    "            '{:1.2f}%'.format(100*height/total),\n",
    "            ha=\"center\")\n",
    "\n",
    "plt.tight_layout()\n",
    "plt.show()"
   ]
  },
  {
   "cell_type": "code",
   "execution_count": 11,
   "id": "26b6f074",
   "metadata": {
    "execution": {
     "iopub.execute_input": "2025-08-27T19:50:50.314313Z",
     "iopub.status.busy": "2025-08-27T19:50:50.314094Z",
     "iopub.status.idle": "2025-08-27T19:50:50.959016Z",
     "shell.execute_reply": "2025-08-27T19:50:50.954556Z"
    },
    "id": "7561d2fb",
    "outputId": "69a9f429-b9ad-40df-803d-aaeb0606373c",
    "papermill": {
     "duration": 0.660206,
     "end_time": "2025-08-27T19:50:50.961313",
     "exception": false,
     "start_time": "2025-08-27T19:50:50.301107",
     "status": "completed"
    },
    "tags": []
   },
   "outputs": [
    {
     "name": "stdout",
     "output_type": "stream",
     "text": [
      "Average text length: 1333.5047624794079\n"
     ]
    },
    {
     "data": {
      "image/png": "[encoded data removed]",
      "text/plain": [
       "<Figure size 1000x600 with 1 Axes>"
      ]
     },
     "metadata": {},
     "output_type": "display_data"
    }
   ],
   "source": [
    "df['text_length'] = df['text'].str.len().astype(int)\n",
    "average_text_length = df['text_length'].mean()\n",
    "print(f\"Average text length: {average_text_length}\")\n",
    "\n",
    "plt.figure(figsize=(10, 6))\n",
    "plt.hist(np.log(df['text_length']), bins=50)\n",
    "plt.title('Distribution of Text Lengths')\n",
    "plt.xlabel('Text Length (Log Scale)')\n",
    "plt.ylabel('Frequency')\n",
    "\n",
    "mean_len = df['text_length'].mean()\n",
    "q1_len, median_len, q3_len = np.percentile(df['text_length'], [25, 50, 75])\n",
    "\n",
    "plt.axvline(np.log(mean_len), color='r', linestyle='dashed', linewidth=1, label=f'Mean: {mean_len:.0f}')\n",
    "plt.axvline(np.log(q1_len), color='g', linestyle='dashed', linewidth=1, label=f'Q1: {q1_len:.0f}')\n",
    "plt.axvline(np.log(median_len), color='orange', linestyle='dashed', linewidth=1, label=f'Median: {median_len:.0f}')\n",
    "plt.axvline(np.log(q3_len), color='purple', linestyle='dashed', linewidth=1, label=f'Q3: {q3_len:.0f}')\n",
    "\n",
    "plt.legend()\n",
    "plt.show()"
   ]
  },
  {
   "cell_type": "markdown",
   "id": "1270e907",
   "metadata": {
    "id": "Wcuyf7MoxYNQ",
    "papermill": {
     "duration": 0.009685,
     "end_time": "2025-08-27T19:50:50.981405",
     "exception": false,
     "start_time": "2025-08-27T19:50:50.971720",
     "status": "completed"
    },
    "tags": []
   },
   "source": [
    "Without applying a logarithmic transformation to the feature, the plot becomes hard to interpret"
   ]
  },
  {
   "cell_type": "code",
   "execution_count": 12,
   "id": "205b0898",
   "metadata": {
    "execution": {
     "iopub.execute_input": "2025-08-27T19:50:51.004390Z",
     "iopub.status.busy": "2025-08-27T19:50:51.004164Z",
     "iopub.status.idle": "2025-08-27T19:50:51.066713Z",
     "shell.execute_reply": "2025-08-27T19:50:51.062603Z"
    },
    "id": "514367f3",
    "papermill": {
     "duration": 0.078387,
     "end_time": "2025-08-27T19:50:51.069573",
     "exception": false,
     "start_time": "2025-08-27T19:50:50.991186",
     "status": "completed"
    },
    "tags": []
   },
   "outputs": [],
   "source": [
    "stop_words = set(stopwords.words('russian') + list(punctuation + '«»'))\n",
    "morph = MorphAnalyzer()\n",
    "\n",
    "def tokenize_sentence(text):\n",
    "    tokens = word_tokenize(text.lower())\n",
    "    lemmas = [\n",
    "        morph.parse(token)[0].normal_form\n",
    "        for token in tokens\n",
    "        if token not in stop_words\n",
    "    ]\n",
    "    return ' '.join(lemmas)"
   ]
  },
  {
   "cell_type": "code",
   "execution_count": 13,
   "id": "941629f3",
   "metadata": {
    "execution": {
     "iopub.execute_input": "2025-08-27T19:50:51.092738Z",
     "iopub.status.busy": "2025-08-27T19:50:51.092493Z",
     "iopub.status.idle": "2025-08-27T19:50:51.164181Z",
     "shell.execute_reply": "2025-08-27T19:50:51.159549Z"
    },
    "id": "ZP0Fvtvt7ckl",
    "papermill": {
     "duration": 0.087049,
     "end_time": "2025-08-27T19:50:51.166429",
     "exception": false,
     "start_time": "2025-08-27T19:50:51.079380",
     "status": "completed"
    },
    "tags": []
   },
   "outputs": [],
   "source": [
    "df_text_topic_sample = df[['text', 'topic']].sample(50_000, random_state=19)"
   ]
  },
  {
   "cell_type": "code",
   "execution_count": 14,
   "id": "db2a98f4",
   "metadata": {
    "execution": {
     "iopub.execute_input": "2025-08-27T19:50:51.190300Z",
     "iopub.status.busy": "2025-08-27T19:50:51.190071Z",
     "iopub.status.idle": "2025-08-27T20:08:12.623289Z",
     "shell.execute_reply": "2025-08-27T20:08:12.618164Z"
    },
    "id": "Z5okPSyc_KeN",
    "papermill": {
     "duration": 1041.45038,
     "end_time": "2025-08-27T20:08:12.626882",
     "exception": false,
     "start_time": "2025-08-27T19:50:51.176502",
     "status": "completed"
    },
    "tags": []
   },
   "outputs": [],
   "source": [
    "df_preprocessed_text = df_text_topic_sample['text'].apply(tokenize_sentence)"
   ]
  },
  {
   "cell_type": "code",
   "execution_count": 15,
   "id": "c551c2ea",
   "metadata": {
    "execution": {
     "iopub.execute_input": "2025-08-27T20:08:12.651970Z",
     "iopub.status.busy": "2025-08-27T20:08:12.651698Z",
     "iopub.status.idle": "2025-08-27T20:08:19.594652Z",
     "shell.execute_reply": "2025-08-27T20:08:19.588665Z"
    },
    "id": "ipWDvvcE707J",
    "papermill": {
     "duration": 6.960078,
     "end_time": "2025-08-27T20:08:19.597974",
     "exception": false,
     "start_time": "2025-08-27T20:08:12.637896",
     "status": "completed"
    },
    "tags": []
   },
   "outputs": [],
   "source": [
    "vectorize = TfidfVectorizer()\n",
    "tfidf_text = vectorize.fit_transform(df_preprocessed_text)"
   ]
  },
  {
   "cell_type": "code",
   "execution_count": 16,
   "id": "bbac153f",
   "metadata": {
    "execution": {
     "iopub.execute_input": "2025-08-27T20:08:19.623036Z",
     "iopub.status.busy": "2025-08-27T20:08:19.622743Z",
     "iopub.status.idle": "2025-08-27T20:08:20.297375Z",
     "shell.execute_reply": "2025-08-27T20:08:20.291576Z"
    },
    "id": "CpU7OhmW73N2",
    "outputId": "23c64211-84c0-4813-cc04-9b495ef38715",
    "papermill": {
     "duration": 0.691317,
     "end_time": "2025-08-27T20:08:20.300103",
     "exception": false,
     "start_time": "2025-08-27T20:08:19.608786",
     "status": "completed"
    },
    "tags": []
   },
   "outputs": [
    {
     "data": {
      "image/png": "[encoded data removed]",
      "text/plain": [
       "<Figure size 1200x800 with 1 Axes>"
      ]
     },
     "metadata": {},
     "output_type": "display_data"
    }
   ],
   "source": [
    "feature_names = vectorize.get_feature_names_out()\n",
    "overall_tfidf_scores = tfidf_text.sum(axis=0)\n",
    "\n",
    "overall_keyword_scores = pd.DataFrame({'keyword': feature_names, 'tfidf_score': overall_tfidf_scores.tolist()[0]})\n",
    "overall_keyword_scores = overall_keyword_scores.sort_values(by='tfidf_score', ascending=False)\n",
    "\n",
    "plt.figure(figsize=(12, 8))\n",
    "plt.barh(overall_keyword_scores['keyword'][:20], overall_keyword_scores['tfidf_score'][:20])\n",
    "plt.title('Top 20 Keywords by TF-IDF Score\\n')\n",
    "plt.ylabel('Keyword')\n",
    "plt.xlabel('TF-IDF Score')\n",
    "plt.gca().xaxis.tick_top()\n",
    "plt.gca().invert_yaxis()\n",
    "plt.tight_layout()\n",
    "plt.show()"
   ]
  },
  {
   "cell_type": "code",
   "execution_count": 17,
   "id": "3acc9e4b",
   "metadata": {
    "execution": {
     "iopub.execute_input": "2025-08-27T20:08:20.328076Z",
     "iopub.status.busy": "2025-08-27T20:08:20.327656Z",
     "iopub.status.idle": "2025-08-27T20:08:20.346605Z",
     "shell.execute_reply": "2025-08-27T20:08:20.340389Z"
    },
    "id": "da0022e9",
    "papermill": {
     "duration": 0.037412,
     "end_time": "2025-08-27T20:08:20.350171",
     "exception": false,
     "start_time": "2025-08-27T20:08:20.312759",
     "status": "completed"
    },
    "tags": []
   },
   "outputs": [],
   "source": [
    "major_topics = df_text_topic_sample['topic'].value_counts()[:'Путешествия'].index\n",
    "df_text_topic_sample.loc[~df_text_topic_sample['topic'].isin(major_topics), 'topic'] = 'Прочее'"
   ]
  },
  {
   "cell_type": "code",
   "execution_count": 18,
   "id": "1657c096",
   "metadata": {
    "execution": {
     "iopub.execute_input": "2025-08-27T20:08:20.377592Z",
     "iopub.status.busy": "2025-08-27T20:08:20.377253Z",
     "iopub.status.idle": "2025-08-27T20:08:20.398766Z",
     "shell.execute_reply": "2025-08-27T20:08:20.392835Z"
    },
    "id": "343a100a",
    "papermill": {
     "duration": 0.040835,
     "end_time": "2025-08-27T20:08:20.402136",
     "exception": false,
     "start_time": "2025-08-27T20:08:20.361301",
     "status": "completed"
    },
    "tags": []
   },
   "outputs": [],
   "source": [
    "le = LabelEncoder()\n",
    "df_text_topic_sample['topic'] = le.fit_transform(df_text_topic_sample['topic'])"
   ]
  },
  {
   "cell_type": "code",
   "execution_count": 19,
   "id": "183e2979",
   "metadata": {
    "execution": {
     "iopub.execute_input": "2025-08-27T20:08:20.430378Z",
     "iopub.status.busy": "2025-08-27T20:08:20.430044Z",
     "iopub.status.idle": "2025-08-27T20:08:20.441637Z",
     "shell.execute_reply": "2025-08-27T20:08:20.436554Z"
    },
    "id": "f359f2bd",
    "papermill": {
     "duration": 0.031847,
     "end_time": "2025-08-27T20:08:20.445663",
     "exception": false,
     "start_time": "2025-08-27T20:08:20.413816",
     "status": "completed"
    },
    "tags": []
   },
   "outputs": [],
   "source": [
    "x = tfidf_text\n",
    "y = df_text_topic_sample['topic']"
   ]
  },
  {
   "cell_type": "code",
   "execution_count": 20,
   "id": "58cb257b",
   "metadata": {
    "execution": {
     "iopub.execute_input": "2025-08-27T20:08:20.474745Z",
     "iopub.status.busy": "2025-08-27T20:08:20.474441Z",
     "iopub.status.idle": "2025-08-27T20:08:20.520053Z",
     "shell.execute_reply": "2025-08-27T20:08:20.515821Z"
    },
    "id": "971e23b4",
    "papermill": {
     "duration": 0.066695,
     "end_time": "2025-08-27T20:08:20.524377",
     "exception": false,
     "start_time": "2025-08-27T20:08:20.457682",
     "status": "completed"
    },
    "tags": []
   },
   "outputs": [],
   "source": [
    "x_train, x_test, y_train, y_test = train_test_split(x, y, test_size=0.33, random_state=19)"
   ]
  },
  {
   "cell_type": "markdown",
   "id": "0b3e8fc8",
   "metadata": {
    "id": "8728e8ab",
    "papermill": {
     "duration": 0.011735,
     "end_time": "2025-08-27T20:08:20.548699",
     "exception": false,
     "start_time": "2025-08-27T20:08:20.536964",
     "status": "completed"
    },
    "tags": []
   },
   "source": [
    "# Models"
   ]
  },
  {
   "cell_type": "markdown",
   "id": "4eb41745",
   "metadata": {
    "id": "7403f330",
    "papermill": {
     "duration": 0.010925,
     "end_time": "2025-08-27T20:08:20.570462",
     "exception": false,
     "start_time": "2025-08-27T20:08:20.559537",
     "status": "completed"
    },
    "tags": []
   },
   "source": [
    "## LinearSVC"
   ]
  },
  {
   "cell_type": "code",
   "execution_count": 21,
   "id": "619c4e1d",
   "metadata": {
    "execution": {
     "iopub.execute_input": "2025-08-27T20:08:20.595446Z",
     "iopub.status.busy": "2025-08-27T20:08:20.595098Z",
     "iopub.status.idle": "2025-08-27T20:17:54.158027Z",
     "shell.execute_reply": "2025-08-27T20:17:54.149724Z"
    },
    "id": "e176aca5",
    "outputId": "76954c99-160f-4b57-bde6-32643fad5630",
    "papermill": {
     "duration": 573.591432,
     "end_time": "2025-08-27T20:17:54.172286",
     "exception": false,
     "start_time": "2025-08-27T20:08:20.580854",
     "status": "completed"
    },
    "tags": []
   },
   "outputs": [
    {
     "name": "stdout",
     "output_type": "stream",
     "text": [
      "Best parameters:  {'C': 1}\n",
      "Best cross-validation score:  0.7414755394192728\n"
     ]
    }
   ],
   "source": [
    "svc_param_grid = {\n",
    "    'C': [0.001, 0.01, 0.1, 1, 10, 100]\n",
    "}\n",
    "\n",
    "svc = LinearSVC(class_weight='balanced', random_state=19, dual=False)\n",
    "\n",
    "svc_grid = GridSearchCV(svc, svc_param_grid, scoring=\"f1_macro\", cv=5)\n",
    "\n",
    "svc_grid.fit(x_train, y_train)\n",
    "\n",
    "print(\"Best parameters: \", svc_grid.best_params_)\n",
    "print(\"Best cross-validation score: \", svc_grid.best_score_)\n",
    "\n",
    "best_svc_model = svc_grid.best_estimator_"
   ]
  },
  {
   "cell_type": "code",
   "execution_count": 22,
   "id": "5371edf5",
   "metadata": {
    "execution": {
     "iopub.execute_input": "2025-08-27T20:17:54.217880Z",
     "iopub.status.busy": "2025-08-27T20:17:54.217521Z",
     "iopub.status.idle": "2025-08-27T20:17:54.264046Z",
     "shell.execute_reply": "2025-08-27T20:17:54.258866Z"
    },
    "id": "ff45e78f",
    "papermill": {
     "duration": 0.073838,
     "end_time": "2025-08-27T20:17:54.266646",
     "exception": false,
     "start_time": "2025-08-27T20:17:54.192808",
     "status": "completed"
    },
    "tags": []
   },
   "outputs": [],
   "source": [
    "svc_pred = best_svc_model.predict(x_test)"
   ]
  },
  {
   "cell_type": "code",
   "execution_count": 23,
   "id": "be51d315",
   "metadata": {
    "execution": {
     "iopub.execute_input": "2025-08-27T20:17:54.291083Z",
     "iopub.status.busy": "2025-08-27T20:17:54.290857Z",
     "iopub.status.idle": "2025-08-27T20:17:54.298301Z",
     "shell.execute_reply": "2025-08-27T20:17:54.295034Z"
    },
    "id": "103715b7",
    "papermill": {
     "duration": 0.024445,
     "end_time": "2025-08-27T20:17:54.301729",
     "exception": false,
     "start_time": "2025-08-27T20:17:54.277284",
     "status": "completed"
    },
    "tags": []
   },
   "outputs": [],
   "source": [
    "# # Best parameters:  {'C': 1}\n",
    "# svc_grid = LinearSVC(class_weight='balanced', random_state=19, dual=False)\n",
    "# svc_grid.fit(x_train, y_train)\n",
    "# svc_pred = svc_grid.predict(x_test)"
   ]
  },
  {
   "cell_type": "code",
   "execution_count": 24,
   "id": "046bb803",
   "metadata": {
    "execution": {
     "iopub.execute_input": "2025-08-27T20:17:54.325626Z",
     "iopub.status.busy": "2025-08-27T20:17:54.325392Z",
     "iopub.status.idle": "2025-08-27T20:17:54.343313Z",
     "shell.execute_reply": "2025-08-27T20:17:54.339177Z"
    },
    "id": "5fa8217b",
    "outputId": "15b8035a-92a8-433b-fca1-0a57eb3824dd",
    "papermill": {
     "duration": 0.033416,
     "end_time": "2025-08-27T20:17:54.345533",
     "exception": false,
     "start_time": "2025-08-27T20:17:54.312117",
     "status": "completed"
    },
    "tags": []
   },
   "outputs": [
    {
     "data": {
      "text/plain": [
       "0.7409601068247319"
      ]
     },
     "execution_count": 24,
     "metadata": {},
     "output_type": "execute_result"
    }
   ],
   "source": [
    "f1_score(y_test, svc_pred, average='macro')"
   ]
  },
  {
   "cell_type": "markdown",
   "id": "ddbf5f55",
   "metadata": {
    "id": "02185df1",
    "papermill": {
     "duration": 0.010394,
     "end_time": "2025-08-27T20:17:54.366375",
     "exception": false,
     "start_time": "2025-08-27T20:17:54.355981",
     "status": "completed"
    },
    "tags": []
   },
   "source": [
    "## LogisticRegression"
   ]
  },
  {
   "cell_type": "code",
   "execution_count": 25,
   "id": "d0990869",
   "metadata": {
    "execution": {
     "iopub.execute_input": "2025-08-27T20:17:54.391049Z",
     "iopub.status.busy": "2025-08-27T20:17:54.390837Z",
     "iopub.status.idle": "2025-08-27T20:35:36.532910Z",
     "shell.execute_reply": "2025-08-27T20:35:36.528540Z"
    },
    "id": "ab025bff",
    "outputId": "0d31cf7a-c457-4eca-bb86-9515fcbf26de",
    "papermill": {
     "duration": 1062.164095,
     "end_time": "2025-08-27T20:35:36.540905",
     "exception": false,
     "start_time": "2025-08-27T20:17:54.376810",
     "status": "completed"
    },
    "tags": []
   },
   "outputs": [
    {
     "name": "stdout",
     "output_type": "stream",
     "text": [
      "Best parameters:  {'C': 10, 'penalty': 'l2'}\n",
      "Best cross-validation score:  0.7446868778811783\n"
     ]
    }
   ],
   "source": [
    "lr_param_grid = {\n",
    "    'penalty': ['l1', 'l2'],\n",
    "    'C': [0.001, 0.01, 0.1, 1, 10, 100]\n",
    "}\n",
    "\n",
    "lr = LogisticRegression(class_weight='balanced')\n",
    "\n",
    "lr_grid = GridSearchCV(lr, lr_param_grid, scoring=\"f1_macro\", cv=5)\n",
    "\n",
    "lr_grid.fit(x_train, y_train)\n",
    "\n",
    "print(\"Best parameters: \", lr_grid.best_params_)\n",
    "print(\"Best cross-validation score: \", lr_grid.best_score_)\n",
    "\n",
    "best_lr_model = lr_grid.best_estimator_"
   ]
  },
  {
   "cell_type": "code",
   "execution_count": 26,
   "id": "6754abd3",
   "metadata": {
    "execution": {
     "iopub.execute_input": "2025-08-27T20:35:36.565914Z",
     "iopub.status.busy": "2025-08-27T20:35:36.565674Z",
     "iopub.status.idle": "2025-08-27T20:35:36.611099Z",
     "shell.execute_reply": "2025-08-27T20:35:36.605102Z"
    },
    "id": "cbbe661d",
    "papermill": {
     "duration": 0.061593,
     "end_time": "2025-08-27T20:35:36.613296",
     "exception": false,
     "start_time": "2025-08-27T20:35:36.551703",
     "status": "completed"
    },
    "tags": []
   },
   "outputs": [],
   "source": [
    "lr_pred = best_lr_model.predict(x_test)"
   ]
  },
  {
   "cell_type": "code",
   "execution_count": 27,
   "id": "bd3a585a",
   "metadata": {
    "execution": {
     "iopub.execute_input": "2025-08-27T20:35:36.639058Z",
     "iopub.status.busy": "2025-08-27T20:35:36.638802Z",
     "iopub.status.idle": "2025-08-27T20:35:36.647238Z",
     "shell.execute_reply": "2025-08-27T20:35:36.643174Z"
    },
    "id": "7bc3ff1c",
    "papermill": {
     "duration": 0.025808,
     "end_time": "2025-08-27T20:35:36.650070",
     "exception": false,
     "start_time": "2025-08-27T20:35:36.624262",
     "status": "completed"
    },
    "tags": []
   },
   "outputs": [],
   "source": [
    "# # Best parameters:  {'C': 10, 'penalty': 'l2'}\n",
    "# lr_grid = LogisticRegression(class_weight='balanced', **{'C': 10, 'penalty': 'l2'})\n",
    "# lr_grid.fit(x_train, y_train)\n",
    "# lr_pred = lr_grid.predict(x_test)"
   ]
  },
  {
   "cell_type": "code",
   "execution_count": 28,
   "id": "d7de5f14",
   "metadata": {
    "execution": {
     "iopub.execute_input": "2025-08-27T20:35:36.709596Z",
     "iopub.status.busy": "2025-08-27T20:35:36.709325Z",
     "iopub.status.idle": "2025-08-27T20:35:36.727548Z",
     "shell.execute_reply": "2025-08-27T20:35:36.723365Z"
    },
    "id": "e22dda08",
    "outputId": "2e3a3fa6-206b-40d0-d6d7-46a8a9c2b9eb",
    "papermill": {
     "duration": 0.068949,
     "end_time": "2025-08-27T20:35:36.730465",
     "exception": false,
     "start_time": "2025-08-27T20:35:36.661516",
     "status": "completed"
    },
    "tags": []
   },
   "outputs": [
    {
     "data": {
      "text/plain": [
       "0.7507613173123358"
      ]
     },
     "execution_count": 28,
     "metadata": {},
     "output_type": "execute_result"
    }
   ],
   "source": [
    "f1_score(y_test, lr_pred, average='macro')"
   ]
  },
  {
   "cell_type": "markdown",
   "id": "b87c2e28",
   "metadata": {
    "id": "2ca2fe4e",
    "papermill": {
     "duration": 0.010691,
     "end_time": "2025-08-27T20:35:36.751962",
     "exception": false,
     "start_time": "2025-08-27T20:35:36.741271",
     "status": "completed"
    },
    "tags": []
   },
   "source": [
    "## RandomForestClassifier"
   ]
  },
  {
   "cell_type": "code",
   "execution_count": 29,
   "id": "d3815ed1",
   "metadata": {
    "execution": {
     "iopub.execute_input": "2025-08-27T20:35:36.776650Z",
     "iopub.status.busy": "2025-08-27T20:35:36.776435Z",
     "iopub.status.idle": "2025-08-27T20:54:42.866287Z",
     "shell.execute_reply": "2025-08-27T20:54:42.859974Z"
    },
    "id": "c10e6744",
    "outputId": "eb5df4db-e8ad-41f4-f584-0f7b382cf0f1",
    "papermill": {
     "duration": 1146.116395,
     "end_time": "2025-08-27T20:54:42.879029",
     "exception": false,
     "start_time": "2025-08-27T20:35:36.762634",
     "status": "completed"
    },
    "tags": []
   },
   "outputs": [
    {
     "name": "stdout",
     "output_type": "stream",
     "text": [
      "Fitting 3 folds for each of 108 candidates, totalling 324 fits\n"
     ]
    },
    {
     "name": "stdout",
     "output_type": "stream",
     "text": [
      "[CV] END max_depth=10, min_samples_leaf=1, min_samples_split=2, n_estimators=100; total time=  14.6s\n",
      "[CV] END max_depth=20, min_samples_leaf=2, min_samples_split=5, n_estimators=200; total time=  55.2s\n",
      "[CV] END max_depth=30, min_samples_leaf=2, min_samples_split=10, n_estimators=100; total time=  44.6s\n",
      "[CV] END max_depth=None, min_samples_leaf=2, min_samples_split=2, n_estimators=300; total time= 4.4min\n"
     ]
    },
    {
     "name": "stdout",
     "output_type": "stream",
     "text": [
      "[CV] END max_depth=10, min_samples_leaf=2, min_samples_split=2, n_estimators=200; total time=  27.4s\n",
      "[CV] END max_depth=20, min_samples_leaf=4, min_samples_split=2, n_estimators=100; total time=  25.1s\n",
      "[CV] END max_depth=30, min_samples_leaf=2, min_samples_split=2, n_estimators=200; total time= 1.4min\n",
      "[CV] END max_depth=None, min_samples_leaf=2, min_samples_split=5, n_estimators=300; total time= 4.1min\n"
     ]
    },
    {
     "name": "stdout",
     "output_type": "stream",
     "text": [
      "[CV] END max_depth=10, min_samples_leaf=4, min_samples_split=10, n_estimators=200; total time=  25.9s\n",
      "[CV] END max_depth=20, min_samples_leaf=2, min_samples_split=10, n_estimators=100; total time=  26.2s\n",
      "[CV] END max_depth=30, min_samples_leaf=2, min_samples_split=2, n_estimators=200; total time= 1.4min\n",
      "[CV] END max_depth=None, min_samples_leaf=2, min_samples_split=5, n_estimators=300; total time= 4.1min\n"
     ]
    },
    {
     "name": "stdout",
     "output_type": "stream",
     "text": [
      "[CV] END max_depth=20, min_samples_leaf=1, min_samples_split=2, n_estimators=100; total time=  33.5s\n",
      "[CV] END max_depth=20, min_samples_leaf=4, min_samples_split=5, n_estimators=300; total time= 1.3min\n",
      "[CV] END max_depth=None, min_samples_leaf=2, min_samples_split=2, n_estimators=300; total time= 4.5min\n"
     ]
    },
    {
     "name": "stdout",
     "output_type": "stream",
     "text": [
      "[CV] END max_depth=10, min_samples_leaf=2, min_samples_split=10, n_estimators=200; total time=  28.1s\n",
      "[CV] END max_depth=20, min_samples_leaf=4, min_samples_split=2, n_estimators=300; total time= 1.3min\n",
      "[CV] END max_depth=None, min_samples_leaf=1, min_samples_split=5, n_estimators=200; total time= 5.0min\n"
     ]
    },
    {
     "name": "stdout",
     "output_type": "stream",
     "text": [
      "[CV] END max_depth=10, min_samples_leaf=2, min_samples_split=5, n_estimators=200; total time=  28.4s\n",
      "[CV] END max_depth=20, min_samples_leaf=4, min_samples_split=2, n_estimators=300; total time= 1.3min\n",
      "[CV] END max_depth=None, min_samples_leaf=1, min_samples_split=5, n_estimators=200; total time= 5.5min\n"
     ]
    },
    {
     "name": "stdout",
     "output_type": "stream",
     "text": [
      "[CV] END max_depth=20, min_samples_leaf=1, min_samples_split=5, n_estimators=100; total time=  30.5s\n",
      "[CV] END max_depth=20, min_samples_leaf=4, min_samples_split=5, n_estimators=300; total time= 1.3min\n",
      "[CV] END max_depth=None, min_samples_leaf=1, min_samples_split=5, n_estimators=200; total time= 5.5min\n"
     ]
    },
    {
     "name": "stdout",
     "output_type": "stream",
     "text": [
      "[CV] END max_depth=10, min_samples_leaf=2, min_samples_split=10, n_estimators=100; total time=  14.1s\n",
      "[CV] END max_depth=20, min_samples_leaf=2, min_samples_split=5, n_estimators=100; total time=  28.0s\n",
      "[CV] END max_depth=30, min_samples_leaf=1, min_samples_split=10, n_estimators=100; total time=  47.3s\n",
      "[CV] END max_depth=30, min_samples_leaf=4, min_samples_split=5, n_estimators=300; total time= 1.8min\n"
     ]
    },
    {
     "name": "stdout",
     "output_type": "stream",
     "text": [
      "[CV] END max_depth=10, min_samples_leaf=1, min_samples_split=2, n_estimators=300; total time=  44.5s\n",
      "[CV] END max_depth=30, min_samples_leaf=2, min_samples_split=2, n_estimators=100; total time=  44.3s\n",
      "[CV] END max_depth=30, min_samples_leaf=4, min_samples_split=5, n_estimators=300; total time= 1.8min\n"
     ]
    },
    {
     "name": "stdout",
     "output_type": "stream",
     "text": [
      "[CV] END max_depth=10, min_samples_leaf=1, min_samples_split=5, n_estimators=200; total time=  28.9s\n",
      "[CV] END max_depth=20, min_samples_leaf=4, min_samples_split=5, n_estimators=100; total time=  25.6s\n",
      "[CV] END max_depth=30, min_samples_leaf=2, min_samples_split=5, n_estimators=100; total time=  42.2s\n",
      "[CV] END max_depth=30, min_samples_leaf=4, min_samples_split=10, n_estimators=300; total time= 1.7min\n"
     ]
    },
    {
     "name": "stdout",
     "output_type": "stream",
     "text": [
      "[CV] END max_depth=10, min_samples_leaf=1, min_samples_split=10, n_estimators=100; total time=  13.9s\n",
      "[CV] END max_depth=20, min_samples_leaf=2, min_samples_split=2, n_estimators=200; total time=  59.5s\n",
      "[CV] END max_depth=30, min_samples_leaf=2, min_samples_split=10, n_estimators=300; total time= 2.1min\n"
     ]
    },
    {
     "name": "stdout",
     "output_type": "stream",
     "text": [
      "[CV] END max_depth=10, min_samples_leaf=4, min_samples_split=2, n_estimators=100; total time=  14.4s\n",
      "[CV] END max_depth=20, min_samples_leaf=2, min_samples_split=5, n_estimators=200; total time=  58.5s\n",
      "[CV] END max_depth=30, min_samples_leaf=2, min_samples_split=10, n_estimators=300; total time= 2.2min\n"
     ]
    },
    {
     "name": "stdout",
     "output_type": "stream",
     "text": [
      "[CV] END max_depth=10, min_samples_leaf=2, min_samples_split=5, n_estimators=200; total time=  28.4s\n",
      "[CV] END max_depth=20, min_samples_leaf=4, min_samples_split=5, n_estimators=100; total time=  25.0s\n",
      "[CV] END max_depth=30, min_samples_leaf=2, min_samples_split=5, n_estimators=100; total time=  42.8s\n",
      "[CV] END max_depth=30, min_samples_leaf=4, min_samples_split=10, n_estimators=300; total time= 1.8min\n"
     ]
    },
    {
     "name": "stdout",
     "output_type": "stream",
     "text": [
      "[CV] END max_depth=20, min_samples_leaf=1, min_samples_split=5, n_estimators=200; total time= 1.1min\n",
      "[CV] END max_depth=30, min_samples_leaf=2, min_samples_split=5, n_estimators=300; total time= 2.3min\n"
     ]
    },
    {
     "name": "stdout",
     "output_type": "stream",
     "text": [
      "[CV] END max_depth=10, min_samples_leaf=4, min_samples_split=5, n_estimators=300; total time=  38.6s\n",
      "[CV] END max_depth=20, min_samples_leaf=4, min_samples_split=10, n_estimators=200; total time=  50.0s\n",
      "[CV] END max_depth=30, min_samples_leaf=4, min_samples_split=5, n_estimators=300; total time= 1.9min\n"
     ]
    },
    {
     "name": "stdout",
     "output_type": "stream",
     "text": [
      "[CV] END max_depth=10, min_samples_leaf=1, min_samples_split=5, n_estimators=300; total time=  41.7s\n",
      "[CV] END max_depth=30, min_samples_leaf=1, min_samples_split=5, n_estimators=300; total time= 2.7min\n"
     ]
    },
    {
     "name": "stdout",
     "output_type": "stream",
     "text": [
      "[CV] END max_depth=10, min_samples_leaf=1, min_samples_split=2, n_estimators=100; total time=  14.1s\n",
      "[CV] END max_depth=20, min_samples_leaf=1, min_samples_split=10, n_estimators=200; total time= 1.0min\n",
      "[CV] END max_depth=30, min_samples_leaf=2, min_samples_split=10, n_estimators=300; total time= 2.2min\n"
     ]
    },
    {
     "name": "stdout",
     "output_type": "stream",
     "text": [
      "[CV] END max_depth=10, min_samples_leaf=1, min_samples_split=5, n_estimators=200; total time=  27.9s\n",
      "[CV] END max_depth=20, min_samples_leaf=4, min_samples_split=2, n_estimators=100; total time=  25.7s\n",
      "[CV] END max_depth=30, min_samples_leaf=2, min_samples_split=5, n_estimators=100; total time=  44.2s\n",
      "[CV] END max_depth=30, min_samples_leaf=4, min_samples_split=10, n_estimators=300; total time= 1.9min\n"
     ]
    },
    {
     "name": "stdout",
     "output_type": "stream",
     "text": [
      "[CV] END max_depth=10, min_samples_leaf=2, min_samples_split=2, n_estimators=300; total time=  41.3s\n",
      "[CV] END max_depth=30, min_samples_leaf=1, min_samples_split=5, n_estimators=300; total time= 2.9min\n"
     ]
    },
    {
     "name": "stdout",
     "output_type": "stream",
     "text": [
      "[CV] END max_depth=10, min_samples_leaf=1, min_samples_split=5, n_estimators=300; total time=  40.4s\n",
      "[CV] END max_depth=30, min_samples_leaf=1, min_samples_split=2, n_estimators=300; total time= 3.0min\n"
     ]
    },
    {
     "name": "stdout",
     "output_type": "stream",
     "text": [
      "[CV] END max_depth=10, min_samples_leaf=4, min_samples_split=2, n_estimators=300; total time=  39.2s\n",
      "[CV] END max_depth=20, min_samples_leaf=4, min_samples_split=10, n_estimators=300; total time= 1.2min\n",
      "[CV] END max_depth=None, min_samples_leaf=2, min_samples_split=2, n_estimators=100; total time= 1.8min\n"
     ]
    },
    {
     "name": "stdout",
     "output_type": "stream",
     "text": [
      "[CV] END max_depth=10, min_samples_leaf=1, min_samples_split=5, n_estimators=200; total time=  28.0s\n",
      "[CV] END max_depth=20, min_samples_leaf=4, min_samples_split=2, n_estimators=200; total time=  51.1s\n",
      "[CV] END max_depth=30, min_samples_leaf=4, min_samples_split=2, n_estimators=200; total time= 1.2min\n",
      "[CV] END max_depth=None, min_samples_leaf=4, min_samples_split=2, n_estimators=100; total time= 1.1min\n"
     ]
    },
    {
     "name": "stdout",
     "output_type": "stream",
     "text": [
      "[CV] END max_depth=10, min_samples_leaf=4, min_samples_split=10, n_estimators=200; total time=  26.2s\n",
      "[CV] END max_depth=20, min_samples_leaf=2, min_samples_split=10, n_estimators=200; total time=  54.2s\n",
      "[CV] END max_depth=30, min_samples_leaf=4, min_samples_split=5, n_estimators=100; total time=  38.4s\n",
      "[CV] END max_depth=None, min_samples_leaf=2, min_samples_split=5, n_estimators=100; total time= 1.7min\n"
     ]
    },
    {
     "name": "stdout",
     "output_type": "stream",
     "text": [
      "[CV] END max_depth=10, min_samples_leaf=1, min_samples_split=2, n_estimators=200; total time=  29.1s\n",
      "[CV] END max_depth=20, min_samples_leaf=4, min_samples_split=5, n_estimators=200; total time=  50.5s\n",
      "[CV] END max_depth=30, min_samples_leaf=4, min_samples_split=2, n_estimators=200; total time= 1.2min\n",
      "[CV] END max_depth=None, min_samples_leaf=4, min_samples_split=2, n_estimators=100; total time= 1.2min\n"
     ]
    },
    {
     "name": "stdout",
     "output_type": "stream",
     "text": [
      "[CV] END max_depth=10, min_samples_leaf=4, min_samples_split=10, n_estimators=100; total time=  14.5s\n",
      "[CV] END max_depth=20, min_samples_leaf=2, min_samples_split=5, n_estimators=200; total time=  56.6s\n",
      "[CV] END max_depth=30, min_samples_leaf=2, min_samples_split=10, n_estimators=200; total time= 1.4min\n",
      "[CV] END max_depth=None, min_samples_leaf=4, min_samples_split=2, n_estimators=100; total time= 1.2min\n"
     ]
    },
    {
     "name": "stdout",
     "output_type": "stream",
     "text": [
      "[CV] END max_depth=10, min_samples_leaf=4, min_samples_split=10, n_estimators=300; total time=  39.8s\n",
      "[CV] END max_depth=30, min_samples_leaf=1, min_samples_split=2, n_estimators=300; total time= 3.1min\n"
     ]
    },
    {
     "name": "stdout",
     "output_type": "stream",
     "text": [
      "[CV] END max_depth=10, min_samples_leaf=1, min_samples_split=10, n_estimators=100; total time=  13.9s\n",
      "[CV] END max_depth=20, min_samples_leaf=1, min_samples_split=10, n_estimators=200; total time= 1.0min\n",
      "[CV] END max_depth=30, min_samples_leaf=4, min_samples_split=2, n_estimators=100; total time=  37.9s\n",
      "[CV] END max_depth=None, min_samples_leaf=2, min_samples_split=2, n_estimators=100; total time= 1.9min\n"
     ]
    },
    {
     "name": "stdout",
     "output_type": "stream",
     "text": [
      "[CV] END max_depth=10, min_samples_leaf=4, min_samples_split=2, n_estimators=200; total time=  27.6s\n",
      "[CV] END max_depth=20, min_samples_leaf=4, min_samples_split=2, n_estimators=200; total time=  54.1s\n",
      "[CV] END max_depth=30, min_samples_leaf=4, min_samples_split=5, n_estimators=100; total time=  38.3s\n",
      "[CV] END max_depth=None, min_samples_leaf=2, min_samples_split=5, n_estimators=100; total time= 1.8min\n"
     ]
    },
    {
     "name": "stdout",
     "output_type": "stream",
     "text": [
      "[CV] END max_depth=10, min_samples_leaf=1, min_samples_split=2, n_estimators=200; total time=  29.5s\n",
      "[CV] END max_depth=20, min_samples_leaf=4, min_samples_split=5, n_estimators=200; total time=  52.6s\n",
      "[CV] END max_depth=30, min_samples_leaf=4, min_samples_split=5, n_estimators=100; total time=  37.3s\n",
      "[CV] END max_depth=None, min_samples_leaf=2, min_samples_split=5, n_estimators=100; total time= 1.8min\n"
     ]
    },
    {
     "name": "stdout",
     "output_type": "stream",
     "text": [
      "[CV] END max_depth=10, min_samples_leaf=2, min_samples_split=2, n_estimators=300; total time=  40.0s\n",
      "[CV] END max_depth=30, min_samples_leaf=1, min_samples_split=2, n_estimators=200; total time= 2.0min\n",
      "[CV] END max_depth=None, min_samples_leaf=4, min_samples_split=5, n_estimators=100; total time= 1.1min\n"
     ]
    },
    {
     "name": "stdout",
     "output_type": "stream",
     "text": [
      "[CV] END max_depth=10, min_samples_leaf=2, min_samples_split=2, n_estimators=100; total time=  13.9s\n",
      "[CV] END max_depth=20, min_samples_leaf=2, min_samples_split=2, n_estimators=200; total time= 1.0min\n",
      "[CV] END max_depth=30, min_samples_leaf=4, min_samples_split=2, n_estimators=100; total time=  37.5s\n",
      "[CV] END max_depth=None, min_samples_leaf=2, min_samples_split=2, n_estimators=100; total time= 2.0min\n"
     ]
    },
    {
     "name": "stdout",
     "output_type": "stream",
     "text": [
      "[CV] END max_depth=10, min_samples_leaf=1, min_samples_split=10, n_estimators=300; total time=  40.7s\n",
      "[CV] END max_depth=30, min_samples_leaf=1, min_samples_split=5, n_estimators=100; total time=  52.6s\n",
      "[CV] END max_depth=30, min_samples_leaf=4, min_samples_split=10, n_estimators=200; total time= 1.2min\n",
      "[CV] END max_depth=None, min_samples_leaf=4, min_samples_split=5, n_estimators=100; total time= 1.1min\n"
     ]
    },
    {
     "name": "stdout",
     "output_type": "stream",
     "text": [
      "[CV] END max_depth=10, min_samples_leaf=4, min_samples_split=5, n_estimators=100; total time=  13.5s\n",
      "[CV] END max_depth=20, min_samples_leaf=2, min_samples_split=2, n_estimators=100; total time=  27.6s\n",
      "[CV] END max_depth=30, min_samples_leaf=1, min_samples_split=5, n_estimators=200; total time= 2.0min\n",
      "[CV] END max_depth=None, min_samples_leaf=4, min_samples_split=5, n_estimators=100; total time= 1.2min\n"
     ]
    },
    {
     "name": "stdout",
     "output_type": "stream",
     "text": [
      "[CV] END max_depth=10, min_samples_leaf=2, min_samples_split=10, n_estimators=300; total time=  40.5s\n",
      "[CV] END max_depth=30, min_samples_leaf=1, min_samples_split=2, n_estimators=300; total time= 3.3min\n"
     ]
    },
    {
     "name": "stdout",
     "output_type": "stream",
     "text": [
      "[CV] END max_depth=10, min_samples_leaf=4, min_samples_split=10, n_estimators=100; total time=  14.0s\n",
      "[CV] END max_depth=20, min_samples_leaf=2, min_samples_split=5, n_estimators=100; total time=  28.1s\n",
      "[CV] END max_depth=30, min_samples_leaf=1, min_samples_split=10, n_estimators=200; total time= 1.7min\n",
      "[CV] END max_depth=None, min_samples_leaf=2, min_samples_split=10, n_estimators=100; total time= 1.6min\n"
     ]
    },
    {
     "name": "stdout",
     "output_type": "stream",
     "text": [
      "[CV] END max_depth=10, min_samples_leaf=4, min_samples_split=10, n_estimators=100; total time=  13.1s\n",
      "[CV] END max_depth=20, min_samples_leaf=1, min_samples_split=10, n_estimators=100; total time=  30.1s\n",
      "[CV] END max_depth=30, min_samples_leaf=1, min_samples_split=10, n_estimators=300; total time= 2.4min\n",
      "[CV] END max_depth=None, min_samples_leaf=4, min_samples_split=10, n_estimators=100; total time=  52.6s\n"
     ]
    },
    {
     "name": "stdout",
     "output_type": "stream",
     "text": [
      "[CV] END max_depth=10, min_samples_leaf=1, min_samples_split=2, n_estimators=100; total time=  14.2s\n",
      "[CV] END max_depth=20, min_samples_leaf=2, min_samples_split=2, n_estimators=100; total time=  29.0s\n",
      "[CV] END max_depth=30, min_samples_leaf=1, min_samples_split=10, n_estimators=200; total time= 1.7min\n",
      "[CV] END max_depth=None, min_samples_leaf=2, min_samples_split=10, n_estimators=100; total time= 1.6min\n"
     ]
    },
    {
     "name": "stdout",
     "output_type": "stream",
     "text": [
      "[CV] END max_depth=10, min_samples_leaf=1, min_samples_split=5, n_estimators=100; total time=  13.6s\n",
      "[CV] END max_depth=20, min_samples_leaf=1, min_samples_split=5, n_estimators=300; total time= 1.6min\n",
      "[CV] END max_depth=None, min_samples_leaf=1, min_samples_split=5, n_estimators=300; total time= 7.3min\n"
     ]
    },
    {
     "name": "stdout",
     "output_type": "stream",
     "text": [
      "[CV] END max_depth=20, min_samples_leaf=1, min_samples_split=5, n_estimators=100; total time=  30.4s\n",
      "[CV] END max_depth=20, min_samples_leaf=4, min_samples_split=5, n_estimators=300; total time= 1.3min\n",
      "[CV] END max_depth=None, min_samples_leaf=1, min_samples_split=5, n_estimators=300; total time= 7.3min\n"
     ]
    },
    {
     "name": "stdout",
     "output_type": "stream",
     "text": [
      "[CV] END max_depth=20, min_samples_leaf=1, min_samples_split=2, n_estimators=100; total time=  34.1s\n",
      "[CV] END max_depth=20, min_samples_leaf=4, min_samples_split=10, n_estimators=100; total time=  24.7s\n",
      "[CV] END max_depth=30, min_samples_leaf=2, min_samples_split=5, n_estimators=200; total time= 1.4min\n",
      "[CV] END max_depth=None, min_samples_leaf=2, min_samples_split=10, n_estimators=100; total time= 1.8min\n"
     ]
    },
    {
     "name": "stdout",
     "output_type": "stream",
     "text": [
      "[CV] END max_depth=20, min_samples_leaf=1, min_samples_split=2, n_estimators=100; total time=  34.8s\n",
      "[CV] END max_depth=20, min_samples_leaf=4, min_samples_split=10, n_estimators=100; total time=  25.6s\n",
      "[CV] END max_depth=30, min_samples_leaf=2, min_samples_split=5, n_estimators=300; total time= 2.2min\n",
      "[CV] END max_depth=None, min_samples_leaf=4, min_samples_split=10, n_estimators=100; total time= 1.1min\n"
     ]
    },
    {
     "name": "stdout",
     "output_type": "stream",
     "text": [
      "[CV] END max_depth=10, min_samples_leaf=1, min_samples_split=2, n_estimators=300; total time=  43.2s\n",
      "[CV] END max_depth=30, min_samples_leaf=1, min_samples_split=10, n_estimators=300; total time= 2.4min\n",
      "[CV] END max_depth=None, min_samples_leaf=4, min_samples_split=10, n_estimators=100; total time= 1.1min\n"
     ]
    },
    {
     "name": "stdout",
     "output_type": "stream",
     "text": [
      "[CV] END max_depth=10, min_samples_leaf=1, min_samples_split=5, n_estimators=100; total time=  13.8s\n",
      "[CV] END max_depth=20, min_samples_leaf=1, min_samples_split=10, n_estimators=200; total time=  58.8s\n",
      "[CV] END max_depth=30, min_samples_leaf=2, min_samples_split=10, n_estimators=200; total time= 1.4min\n",
      "[CV] END max_depth=None, min_samples_leaf=4, min_samples_split=2, n_estimators=200; total time= 1.9min\n"
     ]
    },
    {
     "name": "stdout",
     "output_type": "stream",
     "text": [
      "[CV] END max_depth=10, min_samples_leaf=4, min_samples_split=5, n_estimators=200; total time=  26.9s\n",
      "[CV] END max_depth=20, min_samples_leaf=2, min_samples_split=10, n_estimators=300; total time= 1.4min\n",
      "[CV] END max_depth=None, min_samples_leaf=1, min_samples_split=10, n_estimators=100; total time= 2.7min\n"
     ]
    },
    {
     "name": "stdout",
     "output_type": "stream",
     "text": [
      "[CV] END max_depth=10, min_samples_leaf=4, min_samples_split=5, n_estimators=300; total time=  38.2s\n",
      "[CV] END max_depth=20, min_samples_leaf=4, min_samples_split=10, n_estimators=200; total time=  48.8s\n",
      "[CV] END max_depth=30, min_samples_leaf=4, min_samples_split=5, n_estimators=200; total time= 1.2min\n",
      "[CV] END max_depth=None, min_samples_leaf=4, min_samples_split=2, n_estimators=200; total time= 2.0min\n"
     ]
    },
    {
     "name": "stdout",
     "output_type": "stream",
     "text": [
      "[CV] END max_depth=10, min_samples_leaf=4, min_samples_split=10, n_estimators=200; total time=  25.8s\n",
      "[CV] END max_depth=20, min_samples_leaf=2, min_samples_split=5, n_estimators=300; total time= 1.4min\n",
      "[CV] END max_depth=None, min_samples_leaf=1, min_samples_split=10, n_estimators=100; total time= 2.9min\n"
     ]
    },
    {
     "name": "stdout",
     "output_type": "stream",
     "text": [
      "[CV] END max_depth=10, min_samples_leaf=4, min_samples_split=2, n_estimators=300; total time=  40.5s\n",
      "[CV] END max_depth=30, min_samples_leaf=1, min_samples_split=5, n_estimators=100; total time=  52.0s\n",
      "[CV] END max_depth=30, min_samples_leaf=4, min_samples_split=10, n_estimators=200; total time= 1.2min\n",
      "[CV] END max_depth=None, min_samples_leaf=4, min_samples_split=5, n_estimators=200; total time= 2.1min\n"
     ]
    },
    {
     "name": "stdout",
     "output_type": "stream",
     "text": [
      "[CV] END max_depth=10, min_samples_leaf=1, min_samples_split=5, n_estimators=300; total time=  43.1s\n",
      "[CV] END max_depth=30, min_samples_leaf=1, min_samples_split=10, n_estimators=300; total time= 2.5min\n",
      "[CV] END max_depth=None, min_samples_leaf=4, min_samples_split=10, n_estimators=200; total time= 1.8min\n"
     ]
    },
    {
     "name": "stdout",
     "output_type": "stream",
     "text": [
      "[CV] END max_depth=10, min_samples_leaf=1, min_samples_split=10, n_estimators=300; total time=  40.3s\n",
      "[CV] END max_depth=30, min_samples_leaf=1, min_samples_split=2, n_estimators=200; total time= 2.2min\n",
      "[CV] END max_depth=None, min_samples_leaf=4, min_samples_split=5, n_estimators=200; total time= 2.1min\n"
     ]
    },
    {
     "name": "stdout",
     "output_type": "stream",
     "text": [
      "[CV] END max_depth=10, min_samples_leaf=4, min_samples_split=5, n_estimators=300; total time=  38.8s\n",
      "[CV] END max_depth=20, min_samples_leaf=4, min_samples_split=10, n_estimators=200; total time=  48.3s\n",
      "[CV] END max_depth=30, min_samples_leaf=4, min_samples_split=5, n_estimators=200; total time= 1.2min\n",
      "[CV] END max_depth=None, min_samples_leaf=4, min_samples_split=2, n_estimators=200; total time= 2.3min\n"
     ]
    },
    {
     "name": "stdout",
     "output_type": "stream",
     "text": [
      "[CV] END max_depth=10, min_samples_leaf=4, min_samples_split=2, n_estimators=200; total time=  25.9s\n",
      "[CV] END max_depth=20, min_samples_leaf=2, min_samples_split=10, n_estimators=100; total time=  26.3s\n",
      "[CV] END max_depth=30, min_samples_leaf=2, min_samples_split=2, n_estimators=200; total time= 1.6min\n",
      "[CV] END max_depth=None, min_samples_leaf=2, min_samples_split=10, n_estimators=200; total time= 2.5min\n"
     ]
    },
    {
     "name": "stdout",
     "output_type": "stream",
     "text": [
      "[CV] END max_depth=10, min_samples_leaf=2, min_samples_split=10, n_estimators=100; total time=  13.8s\n",
      "[CV] END max_depth=20, min_samples_leaf=2, min_samples_split=2, n_estimators=200; total time=  55.4s\n",
      "[CV] END max_depth=30, min_samples_leaf=2, min_samples_split=10, n_estimators=100; total time=  41.1s\n",
      "[CV] END max_depth=None, min_samples_leaf=1, min_samples_split=10, n_estimators=100; total time= 3.1min\n"
     ]
    },
    {
     "name": "stdout",
     "output_type": "stream",
     "text": [
      "[CV] END max_depth=20, min_samples_leaf=1, min_samples_split=2, n_estimators=200; total time= 1.3min\n",
      "[CV] END max_depth=30, min_samples_leaf=4, min_samples_split=2, n_estimators=100; total time=  37.0s\n",
      "[CV] END max_depth=None, min_samples_leaf=2, min_samples_split=2, n_estimators=200; total time= 3.1min\n"
     ]
    },
    {
     "name": "stdout",
     "output_type": "stream",
     "text": [
      "[CV] END max_depth=10, min_samples_leaf=4, min_samples_split=2, n_estimators=100; total time=  13.2s\n",
      "[CV] END max_depth=20, min_samples_leaf=1, min_samples_split=5, n_estimators=300; total time= 1.5min\n",
      "[CV] END max_depth=None, min_samples_leaf=1, min_samples_split=5, n_estimators=100; total time= 3.3min\n"
     ]
    },
    {
     "name": "stdout",
     "output_type": "stream",
     "text": [
      "[CV] END max_depth=10, min_samples_leaf=4, min_samples_split=5, n_estimators=100; total time=  13.4s\n",
      "[CV] END max_depth=20, min_samples_leaf=2, min_samples_split=2, n_estimators=100; total time=  28.5s\n",
      "[CV] END max_depth=30, min_samples_leaf=1, min_samples_split=10, n_estimators=100; total time=  49.6s\n",
      "[CV] END max_depth=30, min_samples_leaf=4, min_samples_split=10, n_estimators=200; total time= 1.2min\n",
      "[CV] END max_depth=None, min_samples_leaf=4, min_samples_split=5, n_estimators=200; total time= 2.3min\n"
     ]
    },
    {
     "name": "stdout",
     "output_type": "stream",
     "text": [
      "[CV] END max_depth=10, min_samples_leaf=4, min_samples_split=2, n_estimators=200; total time=  25.8s\n",
      "[CV] END max_depth=20, min_samples_leaf=2, min_samples_split=5, n_estimators=300; total time= 1.3min\n",
      "[CV] END max_depth=None, min_samples_leaf=1, min_samples_split=5, n_estimators=100; total time= 3.3min\n"
     ]
    },
    {
     "name": "stdout",
     "output_type": "stream",
     "text": [
      "[CV] END max_depth=10, min_samples_leaf=1, min_samples_split=10, n_estimators=200; total time=  27.2s\n",
      "[CV] END max_depth=20, min_samples_leaf=2, min_samples_split=10, n_estimators=300; total time= 1.4min\n",
      "[CV] END max_depth=None, min_samples_leaf=2, min_samples_split=2, n_estimators=200; total time= 3.3min\n"
     ]
    },
    {
     "name": "stdout",
     "output_type": "stream",
     "text": [
      "[CV] END max_depth=10, min_samples_leaf=2, min_samples_split=10, n_estimators=300; total time=  40.0s\n",
      "[CV] END max_depth=30, min_samples_leaf=1, min_samples_split=2, n_estimators=200; total time= 2.0min\n",
      "[CV] END max_depth=None, min_samples_leaf=4, min_samples_split=2, n_estimators=300; total time= 2.6min\n"
     ]
    },
    {
     "name": "stdout",
     "output_type": "stream",
     "text": [
      "[CV] END max_depth=10, min_samples_leaf=1, min_samples_split=2, n_estimators=200; total time=  29.4s\n",
      "[CV] END max_depth=20, min_samples_leaf=4, min_samples_split=5, n_estimators=200; total time=  51.6s\n",
      "[CV] END max_depth=30, min_samples_leaf=4, min_samples_split=2, n_estimators=300; total time= 1.9min\n",
      "[CV] END max_depth=None, min_samples_leaf=4, min_samples_split=10, n_estimators=200; total time= 2.0min\n"
     ]
    },
    {
     "name": "stdout",
     "output_type": "stream",
     "text": [
      "[CV] END max_depth=10, min_samples_leaf=2, min_samples_split=5, n_estimators=300; total time=  42.2s\n",
      "[CV] END max_depth=30, min_samples_leaf=1, min_samples_split=10, n_estimators=100; total time=  48.4s\n",
      "[CV] END max_depth=30, min_samples_leaf=4, min_samples_split=10, n_estimators=100; total time=  36.2s\n",
      "[CV] END max_depth=None, min_samples_leaf=2, min_samples_split=5, n_estimators=200; total time= 3.2min\n"
     ]
    },
    {
     "name": "stdout",
     "output_type": "stream",
     "text": [
      "[CV] END max_depth=10, min_samples_leaf=1, min_samples_split=10, n_estimators=200; total time=  26.7s\n",
      "[CV] END max_depth=20, min_samples_leaf=2, min_samples_split=10, n_estimators=200; total time=  53.1s\n",
      "[CV] END max_depth=30, min_samples_leaf=4, min_samples_split=2, n_estimators=300; total time= 1.9min\n",
      "[CV] END max_depth=None, min_samples_leaf=4, min_samples_split=10, n_estimators=200; total time= 2.2min\n"
     ]
    },
    {
     "name": "stdout",
     "output_type": "stream",
     "text": [
      "[CV] END max_depth=10, min_samples_leaf=2, min_samples_split=10, n_estimators=100; total time=  14.1s\n",
      "[CV] END max_depth=20, min_samples_leaf=2, min_samples_split=5, n_estimators=100; total time=  29.7s\n",
      "[CV] END max_depth=30, min_samples_leaf=2, min_samples_split=2, n_estimators=100; total time=  46.0s\n",
      "[CV] END max_depth=30, min_samples_leaf=4, min_samples_split=10, n_estimators=100; total time=  37.3s\n",
      "[CV] END max_depth=None, min_samples_leaf=2, min_samples_split=5, n_estimators=200; total time= 3.2min\n"
     ]
    },
    {
     "name": "stdout",
     "output_type": "stream",
     "text": [
      "[CV] END max_depth=10, min_samples_leaf=4, min_samples_split=10, n_estimators=300; total time=  39.1s\n",
      "[CV] END max_depth=20, min_samples_leaf=4, min_samples_split=10, n_estimators=300; total time= 1.2min\n",
      "[CV] END max_depth=None, min_samples_leaf=2, min_samples_split=2, n_estimators=200; total time= 3.5min\n"
     ]
    },
    {
     "name": "stdout",
     "output_type": "stream",
     "text": [
      "[CV] END max_depth=10, min_samples_leaf=2, min_samples_split=2, n_estimators=300; total time=  40.7s\n",
      "[CV] END max_depth=30, min_samples_leaf=1, min_samples_split=5, n_estimators=200; total time= 1.8min\n",
      "[CV] END max_depth=None, min_samples_leaf=2, min_samples_split=10, n_estimators=200; total time= 3.0min\n"
     ]
    },
    {
     "name": "stdout",
     "output_type": "stream",
     "text": [
      "[CV] END max_depth=10, min_samples_leaf=1, min_samples_split=10, n_estimators=300; total time=  40.8s\n",
      "[CV] END max_depth=30, min_samples_leaf=1, min_samples_split=5, n_estimators=100; total time=  51.1s\n",
      "[CV] END max_depth=30, min_samples_leaf=4, min_samples_split=10, n_estimators=100; total time=  35.3s\n",
      "[CV] END max_depth=None, min_samples_leaf=2, min_samples_split=5, n_estimators=200; total time= 3.3min\n"
     ]
    },
    {
     "name": "stdout",
     "output_type": "stream",
     "text": [
      "[CV] END max_depth=20, min_samples_leaf=1, min_samples_split=2, n_estimators=200; total time= 1.2min\n",
      "[CV] END max_depth=30, min_samples_leaf=2, min_samples_split=10, n_estimators=200; total time= 1.5min\n",
      "[CV] END max_depth=None, min_samples_leaf=4, min_samples_split=2, n_estimators=300; total time= 2.8min\n"
     ]
    },
    {
     "name": "stdout",
     "output_type": "stream",
     "text": [
      "[CV] END max_depth=10, min_samples_leaf=2, min_samples_split=2, n_estimators=200; total time=  28.3s\n",
      "[CV] END max_depth=20, min_samples_leaf=4, min_samples_split=2, n_estimators=300; total time= 1.3min\n",
      "[CV] END max_depth=None, min_samples_leaf=1, min_samples_split=5, n_estimators=100; total time= 3.8min\n"
     ]
    },
    {
     "name": "stdout",
     "output_type": "stream",
     "text": [
      "[CV] END max_depth=10, min_samples_leaf=2, min_samples_split=2, n_estimators=100; total time=  14.2s\n",
      "[CV] END max_depth=20, min_samples_leaf=2, min_samples_split=2, n_estimators=300; total time= 1.4min\n",
      "[CV] END max_depth=None, min_samples_leaf=1, min_samples_split=2, n_estimators=100; total time= 3.9min\n"
     ]
    },
    {
     "name": "stdout",
     "output_type": "stream",
     "text": [
      "[CV] END max_depth=10, min_samples_leaf=2, min_samples_split=5, n_estimators=100; total time=  13.4s\n",
      "[CV] END max_depth=20, min_samples_leaf=1, min_samples_split=10, n_estimators=100; total time=  28.2s\n",
      "[CV] END max_depth=30, min_samples_leaf=1, min_samples_split=5, n_estimators=300; total time= 2.5min\n",
      "[CV] END max_depth=None, min_samples_leaf=4, min_samples_split=10, n_estimators=300; total time= 2.4min\n"
     ]
    },
    {
     "name": "stdout",
     "output_type": "stream",
     "text": [
      "[CV] END max_depth=10, min_samples_leaf=4, min_samples_split=2, n_estimators=300; total time=  40.8s\n",
      "[CV] END max_depth=30, min_samples_leaf=1, min_samples_split=5, n_estimators=200; total time= 1.8min\n",
      "[CV] END max_depth=None, min_samples_leaf=2, min_samples_split=10, n_estimators=200; total time= 3.2min\n"
     ]
    },
    {
     "name": "stdout",
     "output_type": "stream",
     "text": [
      "[CV] END max_depth=10, min_samples_leaf=1, min_samples_split=10, n_estimators=100; total time=  13.6s\n",
      "[CV] END max_depth=20, min_samples_leaf=1, min_samples_split=10, n_estimators=100; total time=  30.1s\n",
      "[CV] END max_depth=30, min_samples_leaf=2, min_samples_split=2, n_estimators=100; total time=  43.7s\n",
      "[CV] END max_depth=30, min_samples_leaf=4, min_samples_split=5, n_estimators=200; total time= 1.2min\n",
      "[CV] END max_depth=None, min_samples_leaf=4, min_samples_split=2, n_estimators=300; total time= 3.1min\n"
     ]
    },
    {
     "name": "stdout",
     "output_type": "stream",
     "text": [
      "[CV] END max_depth=20, min_samples_leaf=1, min_samples_split=5, n_estimators=200; total time= 1.1min\n",
      "[CV] END max_depth=30, min_samples_leaf=2, min_samples_split=5, n_estimators=300; total time= 2.1min\n",
      "[CV] END max_depth=None, min_samples_leaf=4, min_samples_split=10, n_estimators=300; total time= 2.7min\n"
     ]
    },
    {
     "name": "stdout",
     "output_type": "stream",
     "text": [
      "[CV] END max_depth=10, min_samples_leaf=2, min_samples_split=10, n_estimators=200; total time=  26.4s\n",
      "[CV] END max_depth=20, min_samples_leaf=2, min_samples_split=10, n_estimators=100; total time=  26.9s\n",
      "[CV] END max_depth=30, min_samples_leaf=2, min_samples_split=2, n_estimators=300; total time= 2.2min\n",
      "[CV] END max_depth=None, min_samples_leaf=4, min_samples_split=5, n_estimators=300; total time= 2.9min\n"
     ]
    },
    {
     "name": "stdout",
     "output_type": "stream",
     "text": [
      "[CV] END max_depth=10, min_samples_leaf=2, min_samples_split=5, n_estimators=300; total time=  39.8s\n",
      "[CV] END max_depth=30, min_samples_leaf=1, min_samples_split=2, n_estimators=100; total time=  59.7s\n",
      "[CV] END max_depth=None, min_samples_leaf=1, min_samples_split=2, n_estimators=100; total time= 4.3min\n"
     ]
    },
    {
     "name": "stdout",
     "output_type": "stream",
     "text": [
      "[CV] END max_depth=10, min_samples_leaf=2, min_samples_split=2, n_estimators=200; total time=  28.4s\n",
      "[CV] END max_depth=20, min_samples_leaf=4, min_samples_split=5, n_estimators=100; total time=  25.0s\n",
      "[CV] END max_depth=30, min_samples_leaf=2, min_samples_split=2, n_estimators=300; total time= 2.2min\n",
      "[CV] END max_depth=None, min_samples_leaf=4, min_samples_split=5, n_estimators=300; total time= 2.9min\n"
     ]
    },
    {
     "name": "stdout",
     "output_type": "stream",
     "text": [
      "[CV] END max_depth=10, min_samples_leaf=2, min_samples_split=5, n_estimators=200; total time=  26.9s\n",
      "[CV] END max_depth=20, min_samples_leaf=4, min_samples_split=2, n_estimators=100; total time=  25.3s\n",
      "[CV] END max_depth=30, min_samples_leaf=2, min_samples_split=2, n_estimators=300; total time= 2.4min\n",
      "[CV] END max_depth=None, min_samples_leaf=4, min_samples_split=10, n_estimators=300; total time= 2.8min\n"
     ]
    },
    {
     "name": "stdout",
     "output_type": "stream",
     "text": [
      "[CV] END max_depth=10, min_samples_leaf=2, min_samples_split=10, n_estimators=200; total time=  26.5s\n",
      "[CV] END max_depth=20, min_samples_leaf=2, min_samples_split=10, n_estimators=200; total time=  53.0s\n",
      "[CV] END max_depth=30, min_samples_leaf=4, min_samples_split=2, n_estimators=300; total time= 1.8min\n",
      "[CV] END max_depth=None, min_samples_leaf=4, min_samples_split=5, n_estimators=300; total time= 2.9min\n"
     ]
    },
    {
     "name": "stdout",
     "output_type": "stream",
     "text": [
      "[CV] END max_depth=10, min_samples_leaf=4, min_samples_split=2, n_estimators=100; total time=  13.5s\n",
      "[CV] END max_depth=20, min_samples_leaf=1, min_samples_split=10, n_estimators=300; total time= 1.4min\n",
      "[CV] END max_depth=None, min_samples_leaf=1, min_samples_split=2, n_estimators=100; total time= 4.4min\n"
     ]
    },
    {
     "name": "stdout",
     "output_type": "stream",
     "text": [
      "[CV] END max_depth=10, min_samples_leaf=1, min_samples_split=10, n_estimators=200; total time=  27.7s\n",
      "[CV] END max_depth=20, min_samples_leaf=4, min_samples_split=2, n_estimators=200; total time=  51.4s\n",
      "[CV] END max_depth=30, min_samples_leaf=4, min_samples_split=2, n_estimators=200; total time= 1.2min\n",
      "[CV] END max_depth=None, min_samples_leaf=2, min_samples_split=10, n_estimators=300; total time= 3.7min\n"
     ]
    },
    {
     "name": "stdout",
     "output_type": "stream",
     "text": [
      "[CV] END max_depth=20, min_samples_leaf=1, min_samples_split=5, n_estimators=100; total time=  33.9s\n",
      "[CV] END max_depth=20, min_samples_leaf=4, min_samples_split=10, n_estimators=100; total time=  25.6s\n",
      "[CV] END max_depth=30, min_samples_leaf=2, min_samples_split=5, n_estimators=200; total time= 1.5min\n",
      "[CV] END max_depth=None, min_samples_leaf=2, min_samples_split=10, n_estimators=300; total time= 3.8min\n"
     ]
    },
    {
     "name": "stdout",
     "output_type": "stream",
     "text": [
      "[CV] END max_depth=20, min_samples_leaf=1, min_samples_split=2, n_estimators=300; total time= 1.9min\n",
      "[CV] END max_depth=None, min_samples_leaf=2, min_samples_split=2, n_estimators=300; total time= 4.4min\n"
     ]
    },
    {
     "name": "stdout",
     "output_type": "stream",
     "text": [
      "[CV] END max_depth=10, min_samples_leaf=1, min_samples_split=2, n_estimators=300; total time=  42.9s\n",
      "[CV] END max_depth=30, min_samples_leaf=1, min_samples_split=10, n_estimators=200; total time= 1.6min\n",
      "[CV] END max_depth=None, min_samples_leaf=2, min_samples_split=5, n_estimators=300; total time= 4.1min\n"
     ]
    },
    {
     "name": "stdout",
     "output_type": "stream",
     "text": [
      "[CV] END max_depth=20, min_samples_leaf=1, min_samples_split=5, n_estimators=200; total time= 1.0min\n",
      "[CV] END max_depth=30, min_samples_leaf=2, min_samples_split=5, n_estimators=200; total time= 1.5min\n",
      "[CV] END max_depth=None, min_samples_leaf=2, min_samples_split=10, n_estimators=300; total time= 3.9min\n"
     ]
    },
    {
     "name": "stdout",
     "output_type": "stream",
     "text": [
      "[CV] END max_depth=20, min_samples_leaf=1, min_samples_split=2, n_estimators=300; total time= 1.8min\n",
      "[CV] END max_depth=None, min_samples_leaf=1, min_samples_split=10, n_estimators=200; total time= 4.7min\n"
     ]
    },
    {
     "name": "stdout",
     "output_type": "stream",
     "text": [
      "[CV] END max_depth=10, min_samples_leaf=2, min_samples_split=5, n_estimators=300; total time=  39.2s\n",
      "[CV] END max_depth=20, min_samples_leaf=4, min_samples_split=10, n_estimators=300; total time= 1.2min\n",
      "[CV] END max_depth=None, min_samples_leaf=1, min_samples_split=10, n_estimators=200; total time= 4.9min\n"
     ]
    },
    {
     "name": "stdout",
     "output_type": "stream",
     "text": [
      "[CV] END max_depth=20, min_samples_leaf=1, min_samples_split=2, n_estimators=200; total time= 1.1min\n",
      "[CV] END max_depth=30, min_samples_leaf=2, min_samples_split=10, n_estimators=100; total time=  41.9s\n",
      "[CV] END max_depth=None, min_samples_leaf=1, min_samples_split=10, n_estimators=200; total time= 5.1min\n"
     ]
    },
    {
     "name": "stdout",
     "output_type": "stream",
     "text": [
      "[CV] END max_depth=10, min_samples_leaf=4, min_samples_split=5, n_estimators=200; total time=  26.7s\n",
      "[CV] END max_depth=20, min_samples_leaf=2, min_samples_split=10, n_estimators=300; total time= 1.4min\n",
      "[CV] END max_depth=None, min_samples_leaf=1, min_samples_split=10, n_estimators=300; total time= 5.8min\n"
     ]
    },
    {
     "name": "stdout",
     "output_type": "stream",
     "text": [
      "[CV] END max_depth=20, min_samples_leaf=1, min_samples_split=2, n_estimators=300; total time= 1.9min\n",
      "[CV] END max_depth=None, min_samples_leaf=1, min_samples_split=10, n_estimators=300; total time= 6.1min\n"
     ]
    },
    {
     "name": "stdout",
     "output_type": "stream",
     "text": [
      "[CV] END max_depth=10, min_samples_leaf=2, min_samples_split=5, n_estimators=100; total time=  13.7s\n",
      "[CV] END max_depth=20, min_samples_leaf=1, min_samples_split=10, n_estimators=300; total time= 1.5min\n",
      "[CV] END max_depth=None, min_samples_leaf=1, min_samples_split=2, n_estimators=200; total time= 6.4min\n"
     ]
    },
    {
     "name": "stdout",
     "output_type": "stream",
     "text": [
      "[CV] END max_depth=10, min_samples_leaf=2, min_samples_split=2, n_estimators=100; total time=  13.4s\n",
      "[CV] END max_depth=20, min_samples_leaf=1, min_samples_split=5, n_estimators=300; total time= 1.6min\n",
      "[CV] END max_depth=None, min_samples_leaf=1, min_samples_split=10, n_estimators=300; total time= 6.5min\n"
     ]
    },
    {
     "name": "stdout",
     "output_type": "stream",
     "text": [
      "[CV] END max_depth=10, min_samples_leaf=1, min_samples_split=5, n_estimators=100; total time=  14.6s\n",
      "[CV] END max_depth=20, min_samples_leaf=2, min_samples_split=2, n_estimators=300; total time= 1.4min\n",
      "[CV] END max_depth=None, min_samples_leaf=1, min_samples_split=2, n_estimators=200; total time= 6.8min\n"
     ]
    },
    {
     "name": "stdout",
     "output_type": "stream",
     "text": [
      "[CV] END max_depth=10, min_samples_leaf=2, min_samples_split=10, n_estimators=300; total time=  39.6s\n",
      "[CV] END max_depth=30, min_samples_leaf=1, min_samples_split=2, n_estimators=100; total time= 1.0min\n",
      "[CV] END max_depth=None, min_samples_leaf=1, min_samples_split=2, n_estimators=200; total time= 7.2min\n"
     ]
    },
    {
     "name": "stdout",
     "output_type": "stream",
     "text": [
      "[CV] END max_depth=10, min_samples_leaf=4, min_samples_split=5, n_estimators=200; total time=  25.4s\n",
      "[CV] END max_depth=20, min_samples_leaf=2, min_samples_split=5, n_estimators=300; total time= 1.4min\n",
      "[CV] END max_depth=None, min_samples_leaf=1, min_samples_split=5, n_estimators=300; total time= 7.2min\n"
     ]
    },
    {
     "name": "stdout",
     "output_type": "stream",
     "text": [
      "[CV] END max_depth=10, min_samples_leaf=2, min_samples_split=5, n_estimators=100; total time=  14.0s\n",
      "[CV] END max_depth=20, min_samples_leaf=2, min_samples_split=2, n_estimators=300; total time= 1.5min\n",
      "[CV] END max_depth=None, min_samples_leaf=1, min_samples_split=2, n_estimators=300; total time= 8.8min\n"
     ]
    },
    {
     "name": "stdout",
     "output_type": "stream",
     "text": [
      "[CV] END max_depth=10, min_samples_leaf=4, min_samples_split=5, n_estimators=100; total time=  13.4s\n",
      "[CV] END max_depth=20, min_samples_leaf=1, min_samples_split=10, n_estimators=300; total time= 1.5min\n",
      "[CV] END max_depth=None, min_samples_leaf=1, min_samples_split=2, n_estimators=300; total time= 9.0min\n"
     ]
    },
    {
     "name": "stdout",
     "output_type": "stream",
     "text": [
      "[CV] END max_depth=10, min_samples_leaf=4, min_samples_split=10, n_estimators=300; total time=  39.5s\n",
      "[CV] END max_depth=30, min_samples_leaf=1, min_samples_split=2, n_estimators=100; total time= 1.0min\n",
      "[CV] END max_depth=None, min_samples_leaf=1, min_samples_split=2, n_estimators=300; total time= 9.2min\n"
     ]
    },
    {
     "name": "stdout",
     "output_type": "stream",
     "text": [
      "Best parameters:  {'max_depth': None, 'min_samples_leaf': 1, 'min_samples_split': 5, 'n_estimators': 300}\n",
      "Best cross-validation score:  0.5029446757585078\n"
     ]
    }
   ],
   "source": [
    "rfc_param_grid = {\n",
    "    'n_estimators': [100, 200, 300],\n",
    "    'max_depth': [10, 20, 30, None],\n",
    "    'min_samples_split': [2, 5, 10],\n",
    "    'min_samples_leaf': [1, 2, 4]\n",
    "}\n",
    "\n",
    "rfc = RandomForestClassifier(random_state=19)\n",
    "\n",
    "rfc_grid = GridSearchCV(rfc, rfc_param_grid, cv=3, n_jobs=-1, scoring=\"f1_macro\", verbose=2)\n",
    "\n",
    "rfc_grid.fit(x_train, y_train)\n",
    "\n",
    "print(\"Best parameters: \", rfc_grid.best_params_)\n",
    "print(\"Best cross-validation score: \", rfc_grid.best_score_)\n",
    "\n",
    "best_rfc_model = rfc_grid.best_estimator_"
   ]
  },
  {
   "cell_type": "code",
   "execution_count": 30,
   "id": "2d53878e",
   "metadata": {
    "execution": {
     "iopub.execute_input": "2025-08-27T20:54:42.916748Z",
     "iopub.status.busy": "2025-08-27T20:54:42.916451Z",
     "iopub.status.idle": "2025-08-27T20:54:47.376261Z",
     "shell.execute_reply": "2025-08-27T20:54:47.369266Z"
    },
    "id": "0a21b75d",
    "papermill": {
     "duration": 4.483947,
     "end_time": "2025-08-27T20:54:47.379499",
     "exception": false,
     "start_time": "2025-08-27T20:54:42.895552",
     "status": "completed"
    },
    "tags": []
   },
   "outputs": [],
   "source": [
    "rfc_pred = best_rfc_model.predict(x_test)"
   ]
  },
  {
   "cell_type": "code",
   "execution_count": 31,
   "id": "e24fcebf",
   "metadata": {
    "execution": {
     "iopub.execute_input": "2025-08-27T20:54:47.420198Z",
     "iopub.status.busy": "2025-08-27T20:54:47.419850Z",
     "iopub.status.idle": "2025-08-27T20:54:47.430771Z",
     "shell.execute_reply": "2025-08-27T20:54:47.426113Z"
    },
    "id": "0ff969c3",
    "papermill": {
     "duration": 0.035357,
     "end_time": "2025-08-27T20:54:47.433444",
     "exception": false,
     "start_time": "2025-08-27T20:54:47.398087",
     "status": "completed"
    },
    "tags": []
   },
   "outputs": [],
   "source": [
    "# # Best parameters:  {'max_depth': None, 'min_samples_leaf': 2, 'min_samples_split': 2, 'n_estimators': 300}\n",
    "# rfc_grid = RandomForestClassifier(class_weight='balanced', random_state=19, **{'max_depth': None, 'min_samples_leaf': 2, 'min_samples_split': 2, 'n_estimators': 300})\n",
    "# rfc_grid.fit(x_train, y_train)\n",
    "# rfc_pred = rfc_grid.predict(x_test)"
   ]
  },
  {
   "cell_type": "code",
   "execution_count": 32,
   "id": "7fb11554",
   "metadata": {
    "execution": {
     "iopub.execute_input": "2025-08-27T20:54:47.470110Z",
     "iopub.status.busy": "2025-08-27T20:54:47.469850Z",
     "iopub.status.idle": "2025-08-27T20:54:47.489660Z",
     "shell.execute_reply": "2025-08-27T20:54:47.484832Z"
    },
    "id": "74626542",
    "outputId": "21f7eca1-719e-46db-b586-1128c490040e",
    "papermill": {
     "duration": 0.042862,
     "end_time": "2025-08-27T20:54:47.492685",
     "exception": false,
     "start_time": "2025-08-27T20:54:47.449823",
     "status": "completed"
    },
    "tags": []
   },
   "outputs": [
    {
     "data": {
      "text/plain": [
       "0.5139982433680629"
      ]
     },
     "execution_count": 32,
     "metadata": {},
     "output_type": "execute_result"
    }
   ],
   "source": [
    "f1_score(y_test, rfc_pred, average='macro')"
   ]
  },
  {
   "cell_type": "markdown",
   "id": "f48adf3c",
   "metadata": {
    "id": "6896d0dd",
    "papermill": {
     "duration": 0.01545,
     "end_time": "2025-08-27T20:54:47.524128",
     "exception": false,
     "start_time": "2025-08-27T20:54:47.508678",
     "status": "completed"
    },
    "tags": []
   },
   "source": [
    "## KNeighborsClassifier"
   ]
  },
  {
   "cell_type": "code",
   "execution_count": 33,
   "id": "3dfad118",
   "metadata": {
    "execution": {
     "iopub.execute_input": "2025-08-27T20:54:47.560152Z",
     "iopub.status.busy": "2025-08-27T20:54:47.559878Z",
     "iopub.status.idle": "2025-08-27T21:08:25.034248Z",
     "shell.execute_reply": "2025-08-27T21:08:25.028244Z"
    },
    "id": "248e0afd",
    "outputId": "eb172885-3039-47e2-fd42-2595e93cac25",
    "papermill": {
     "duration": 817.506856,
     "end_time": "2025-08-27T21:08:25.047096",
     "exception": false,
     "start_time": "2025-08-27T20:54:47.540240",
     "status": "completed"
    },
    "tags": []
   },
   "outputs": [
    {
     "name": "stdout",
     "output_type": "stream",
     "text": [
      "Fitting 3 folds for each of 216 candidates, totalling 648 fits\n"
     ]
    },
    {
     "name": "stdout",
     "output_type": "stream",
     "text": [
      "Best parameters:  {'algorithm': 'auto', 'leaf_size': 30, 'metric': 'euclidean', 'n_neighbors': 7, 'p': 1}\n",
      "Best cross-validation score:  0.6205056532739737\n"
     ]
    }
   ],
   "source": [
    "knn_param_grid = {\n",
    "    'n_neighbors': [3, 5, 7],\n",
    "    'algorithm': ['auto', 'ball_tree', 'kd_tree', 'brute'],\n",
    "    'leaf_size': [30, 40, 50],\n",
    "    'p': [1, 2],\n",
    "    'metric': ['euclidean', 'manhattan', 'minkowski']\n",
    "}\n",
    "\n",
    "knn = KNeighborsClassifier()\n",
    "\n",
    "knn_grid = GridSearchCV(knn, knn_param_grid, cv=3, n_jobs=-1, scoring=\"f1_macro\", verbose=2)\n",
    "\n",
    "knn_grid.fit(x_train, y_train)\n",
    "\n",
    "print(\"Best parameters: \", knn_grid.best_params_)\n",
    "print(\"Best cross-validation score: \", knn_grid.best_score_)\n",
    "\n",
    "best_knn_model = knn_grid.best_estimator_"
   ]
  },
  {
   "cell_type": "code",
   "execution_count": 34,
   "id": "c92fae60",
   "metadata": {
    "execution": {
     "iopub.execute_input": "2025-08-27T21:08:25.083293Z",
     "iopub.status.busy": "2025-08-27T21:08:25.082998Z",
     "iopub.status.idle": "2025-08-27T21:08:59.116156Z",
     "shell.execute_reply": "2025-08-27T21:08:59.112835Z"
    },
    "id": "7954db67",
    "papermill": {
     "duration": 34.057987,
     "end_time": "2025-08-27T21:08:59.121235",
     "exception": false,
     "start_time": "2025-08-27T21:08:25.063248",
     "status": "completed"
    },
    "tags": []
   },
   "outputs": [],
   "source": [
    "knn_pred = best_knn_model.predict(x_test)"
   ]
  },
  {
   "cell_type": "code",
   "execution_count": 35,
   "id": "6edf477a",
   "metadata": {
    "execution": {
     "iopub.execute_input": "2025-08-27T21:08:59.159546Z",
     "iopub.status.busy": "2025-08-27T21:08:59.159248Z",
     "iopub.status.idle": "2025-08-27T21:08:59.169307Z",
     "shell.execute_reply": "2025-08-27T21:08:59.164083Z"
    },
    "id": "d36aded9",
    "papermill": {
     "duration": 0.033047,
     "end_time": "2025-08-27T21:08:59.171656",
     "exception": false,
     "start_time": "2025-08-27T21:08:59.138609",
     "status": "completed"
    },
    "tags": []
   },
   "outputs": [],
   "source": [
    "# # Best parameters:  {'algorithm': 'auto', 'leaf_size': 30, 'metric': 'euclidean', 'n_neighbors': 7, 'p': 1}\n",
    "# knn_grid = KNeighborsClassifier(**{'algorithm': 'auto', 'leaf_size': 30, 'metric': 'euclidean', 'n_neighbors': 7, 'p': 1})\n",
    "# knn_grid.fit(x_train, y_train)\n",
    "# knn_pred = knn_grid.predict(x_test)"
   ]
  },
  {
   "cell_type": "code",
   "execution_count": 36,
   "id": "cbaac7cc",
   "metadata": {
    "execution": {
     "iopub.execute_input": "2025-08-27T21:08:59.207087Z",
     "iopub.status.busy": "2025-08-27T21:08:59.206816Z",
     "iopub.status.idle": "2025-08-27T21:08:59.225660Z",
     "shell.execute_reply": "2025-08-27T21:08:59.221212Z"
    },
    "id": "ad8d63b7",
    "outputId": "8ad87386-3fa8-479e-e7fa-3a3a61a0d88e",
    "papermill": {
     "duration": 0.040898,
     "end_time": "2025-08-27T21:08:59.228557",
     "exception": false,
     "start_time": "2025-08-27T21:08:59.187659",
     "status": "completed"
    },
    "tags": []
   },
   "outputs": [
    {
     "data": {
      "text/plain": [
       "0.6269082453239714"
      ]
     },
     "execution_count": 36,
     "metadata": {},
     "output_type": "execute_result"
    }
   ],
   "source": [
    "f1_score(y_test, knn_pred, average='macro')"
   ]
  }
 ],
 "metadata": {
  "colab": {
   "provenance": []
  },
  "kaggle": {
   "accelerator": "tpu1vmV38",
   "dataSources": [
    {
     "datasetId": 37495,
     "sourceId": 843399,
     "sourceType": "datasetVersion"
    }
   ],
   "dockerImageVersionId": 31091,
   "isGpuEnabled": false,
   "isInternetEnabled": true,
   "language": "python",
   "sourceType": "notebook"
  },
  "kernelspec": {
   "display_name": "Python 3",
   "language": "python",
   "name": "python3"
  },
  "language_info": {
   "codemirror_mode": {
    "name": "ipython",
    "version": 3
   },
   "file_extension": ".py",
   "mimetype": "text/x-python",
   "name": "python",
   "nbconvert_exporter": "python",
   "pygments_lexer": "ipython3",
   "version": "3.10.18"
  },
  "papermill": {
   "default_parameters": {},
   "duration": 4773.473717,
   "end_time": "2025-08-27T21:09:02.274904",
   "environment_variables": {},
   "exception": null,
   "input_path": "__notebook__.ipynb",
   "output_path": "__notebook__.ipynb",
   "parameters": {},
   "start_time": "2025-08-27T19:49:28.801187",
   "version": "2.6.0"
  }
 },
 "nbformat": 4,
 "nbformat_minor": 5
}
